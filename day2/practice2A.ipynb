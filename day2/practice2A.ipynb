{
 "cells": [
  {
   "cell_type": "markdown",
   "metadata": {},
   "source": [
    "# 情報システム実習論　テキスト分析課題2A\n",
    "### 必要なライブラリ、データセットのインポート"
   ]
  },
  {
   "cell_type": "code",
   "execution_count": 33,
   "metadata": {
    "tags": []
   },
   "outputs": [
    {
     "output_type": "stream",
     "name": "stdout",
     "text": "Requirement already satisfied: pandas in /Applications/anaconda3/envs/system_training/lib/python3.7/site-packages (1.0.5)\nRequirement already satisfied: python-dateutil>=2.6.1 in /Applications/anaconda3/envs/system_training/lib/python3.7/site-packages (from pandas) (2.8.1)\nRequirement already satisfied: numpy>=1.13.3 in /Applications/anaconda3/envs/system_training/lib/python3.7/site-packages (from pandas) (1.18.1)\nRequirement already satisfied: pytz>=2017.2 in /Applications/anaconda3/envs/system_training/lib/python3.7/site-packages (from pandas) (2020.1)\nRequirement already satisfied: six>=1.5 in /Applications/anaconda3/envs/system_training/lib/python3.7/site-packages (from python-dateutil>=2.6.1->pandas) (1.14.0)\nRequirement already satisfied: nltk in /Applications/anaconda3/envs/system_training/lib/python3.7/site-packages (3.5)\nRequirement already satisfied: tqdm in /Applications/anaconda3/envs/system_training/lib/python3.7/site-packages (from nltk) (4.45.0)\nRequirement already satisfied: regex in /Applications/anaconda3/envs/system_training/lib/python3.7/site-packages (from nltk) (2020.6.8)\nRequirement already satisfied: joblib in /Applications/anaconda3/envs/system_training/lib/python3.7/site-packages (from nltk) (0.14.1)\nRequirement already satisfied: click in /Applications/anaconda3/envs/system_training/lib/python3.7/site-packages (from nltk) (7.1.2)\nRequirement already satisfied: gensim in /Applications/anaconda3/envs/system_training/lib/python3.7/site-packages (3.8.3)\nRequirement already satisfied: numpy>=1.11.3 in /Applications/anaconda3/envs/system_training/lib/python3.7/site-packages (from gensim) (1.18.1)\nRequirement already satisfied: scipy>=0.18.1 in /Applications/anaconda3/envs/system_training/lib/python3.7/site-packages (from gensim) (1.4.1)\nRequirement already satisfied: smart-open>=1.8.1 in /Applications/anaconda3/envs/system_training/lib/python3.7/site-packages (from gensim) (2.1.0)\nRequirement already satisfied: six>=1.5.0 in /Applications/anaconda3/envs/system_training/lib/python3.7/site-packages (from gensim) (1.14.0)\nRequirement already satisfied: boto in /Applications/anaconda3/envs/system_training/lib/python3.7/site-packages (from smart-open>=1.8.1->gensim) (2.49.0)\nRequirement already satisfied: requests in /Applications/anaconda3/envs/system_training/lib/python3.7/site-packages (from smart-open>=1.8.1->gensim) (2.23.0)\nRequirement already satisfied: boto3 in /Applications/anaconda3/envs/system_training/lib/python3.7/site-packages (from smart-open>=1.8.1->gensim) (1.14.20)\nRequirement already satisfied: chardet<4,>=3.0.2 in /Applications/anaconda3/envs/system_training/lib/python3.7/site-packages (from requests->smart-open>=1.8.1->gensim) (3.0.4)\nRequirement already satisfied: urllib3!=1.25.0,!=1.25.1,<1.26,>=1.21.1 in /Applications/anaconda3/envs/system_training/lib/python3.7/site-packages (from requests->smart-open>=1.8.1->gensim) (1.25.8)\nRequirement already satisfied: idna<3,>=2.5 in /Applications/anaconda3/envs/system_training/lib/python3.7/site-packages (from requests->smart-open>=1.8.1->gensim) (2.9)\nRequirement already satisfied: certifi>=2017.4.17 in /Applications/anaconda3/envs/system_training/lib/python3.7/site-packages (from requests->smart-open>=1.8.1->gensim) (2020.4.5.1)\nRequirement already satisfied: jmespath<1.0.0,>=0.7.1 in /Applications/anaconda3/envs/system_training/lib/python3.7/site-packages (from boto3->smart-open>=1.8.1->gensim) (0.10.0)\nRequirement already satisfied: botocore<1.18.0,>=1.17.20 in /Applications/anaconda3/envs/system_training/lib/python3.7/site-packages (from boto3->smart-open>=1.8.1->gensim) (1.17.20)\nRequirement already satisfied: s3transfer<0.4.0,>=0.3.0 in /Applications/anaconda3/envs/system_training/lib/python3.7/site-packages (from boto3->smart-open>=1.8.1->gensim) (0.3.3)\nRequirement already satisfied: python-dateutil<3.0.0,>=2.1 in /Applications/anaconda3/envs/system_training/lib/python3.7/site-packages (from botocore<1.18.0,>=1.17.20->boto3->smart-open>=1.8.1->gensim) (2.8.1)\nRequirement already satisfied: docutils<0.16,>=0.10 in /Applications/anaconda3/envs/system_training/lib/python3.7/site-packages (from botocore<1.18.0,>=1.17.20->boto3->smart-open>=1.8.1->gensim) (0.15.2)\n"
    }
   ],
   "source": [
    "!pip install pandas\n",
    "!pip install nltk\n",
    "!pip install gensim"
   ]
  },
  {
   "cell_type": "code",
   "execution_count": 34,
   "metadata": {},
   "outputs": [],
   "source": [
    "from sklearn.feature_extraction.text import TfidfVectorizer\n",
    "from sklearn.cluster import KMeans\n",
    "import numpy as np\n",
    "import matplotlib.pyplot as plt\n",
    "import pandas as pd\n",
    "import nltk\n",
    "import collections\n",
    "from gensim import models\n",
    "from gensim.models.doc2vec import Doc2Vec\n",
    "from gensim.models.doc2vec import TaggedDocument"
   ]
  },
  {
   "cell_type": "markdown",
   "metadata": {},
   "source": [
    "### nltkが使えるようにしておく"
   ]
  },
  {
   "cell_type": "code",
   "execution_count": 35,
   "metadata": {
    "tags": []
   },
   "outputs": [
    {
     "output_type": "stream",
     "name": "stderr",
     "text": "[nltk_data] Downloading package stopwords to /Users/kento/nltk_data...\n[nltk_data]   Package stopwords is already up-to-date!\n[nltk_data] Downloading package wordnet to /Users/kento/nltk_data...\n[nltk_data]   Package wordnet is already up-to-date!\n[nltk_data] Downloading package reuters to /Users/kento/nltk_data...\n[nltk_data]   Package reuters is already up-to-date!\n[nltk_data] Downloading package punkt to /Users/kento/nltk_data...\n[nltk_data]   Package punkt is already up-to-date!\n"
    },
    {
     "output_type": "execute_result",
     "data": {
      "text/plain": "True"
     },
     "metadata": {},
     "execution_count": 35
    }
   ],
   "source": [
    "nltk.download(\"stopwords\")\n",
    "nltk.download(\"wordnet\")\n",
    "nltk.download(\"reuters\")\n",
    "nltk.download(\"punkt\")"
   ]
  },
  {
   "cell_type": "markdown",
   "metadata": {},
   "source": [
    "### データを取得"
   ]
  },
  {
   "cell_type": "code",
   "execution_count": 36,
   "metadata": {},
   "outputs": [],
   "source": [
    "from nltk.corpus import reuters as corpus"
   ]
  },
  {
   "cell_type": "markdown",
   "metadata": {},
   "source": [
    "### データセットの中身確認"
   ]
  },
  {
   "cell_type": "code",
   "execution_count": 37,
   "metadata": {
    "tags": []
   },
   "outputs": [
    {
     "output_type": "stream",
     "name": "stdout",
     "text": "<generator object <genexpr> at 0x7fe8d0ee7a50>\n"
    }
   ],
   "source": [
    "print(corpus.words(fileids) for field in corpus.fileids()[1])"
   ]
  },
  {
   "cell_type": "markdown",
   "metadata": {},
   "source": [
    "### 全document数"
   ]
  },
  {
   "cell_type": "code",
   "execution_count": 38,
   "metadata": {},
   "outputs": [
    {
     "output_type": "execute_result",
     "data": {
      "text/plain": "10788"
     },
     "metadata": {},
     "execution_count": 38
    }
   ],
   "source": [
    "len(corpus.fileids())"
   ]
  },
  {
   "cell_type": "markdown",
   "metadata": {},
   "source": [
    "###  前から1000文とってきて解析を行う"
   ]
  },
  {
   "cell_type": "code",
   "execution_count": 39,
   "metadata": {
    "tags": []
   },
   "outputs": [
    {
     "output_type": "stream",
     "name": "stdout",
     "text": "['CHINA', 'DAILY', 'SAYS', 'VERMIN', 'EAT', '7', '-', ...]\n['JAPAN', 'TO', 'REVISE', 'LONG', '-', 'TERM', ...]\n['test/14826', 'test/14828', 'test/14829', 'test/14832', 'test/14833', 'test/14839', 'test/14840', 'test/14841', 'test/14842', 'test/14843', 'test/14844', 'test/14849', 'test/14852', 'test/14854', 'test/14858', 'test/14859', 'test/14860', 'test/14861', 'test/14862', 'test/14863', 'test/14865', 'test/14867', 'test/14872', 'test/14873', 'test/14875', 'test/14876', 'test/14877', 'test/14881', 'test/14882', 'test/14885', 'test/14886', 'test/14888', 'test/14890', 'test/14891', 'test/14892', 'test/14899', 'test/14900', 'test/14903', 'test/14904', 'test/14907', 'test/14909', 'test/14911', 'test/14912', 'test/14913', 'test/14918', 'test/14919', 'test/14921', 'test/14922', 'test/14923', 'test/14926', 'test/14928', 'test/14930', 'test/14931', 'test/14932', 'test/14933', 'test/14934', 'test/14941', 'test/14943', 'test/14949', 'test/14951', 'test/14954', 'test/14957', 'test/14958', 'test/14959', 'test/14960', 'test/14962', 'test/14963', 'test/14964', 'test/14965', 'test/14967', 'test/14968', 'test/14969', 'test/14970', 'test/14971', 'test/14974', 'test/14975', 'test/14978', 'test/14981', 'test/14982', 'test/14983', 'test/14984', 'test/14985', 'test/14986', 'test/14987', 'test/14988', 'test/14993', 'test/14995', 'test/14998', 'test/15000', 'test/15001', 'test/15002', 'test/15004', 'test/15005', 'test/15006', 'test/15011', 'test/15012', 'test/15013', 'test/15016', 'test/15017', 'test/15020', 'test/15023', 'test/15024', 'test/15026', 'test/15027', 'test/15028', 'test/15029', 'test/15031', 'test/15032', 'test/15033', 'test/15037', 'test/15038', 'test/15043', 'test/15045', 'test/15046', 'test/15048', 'test/15049', 'test/15052', 'test/15053', 'test/15055', 'test/15056', 'test/15060', 'test/15061', 'test/15062', 'test/15063', 'test/15065', 'test/15067', 'test/15069', 'test/15070', 'test/15074', 'test/15077', 'test/15078', 'test/15079', 'test/15082', 'test/15090', 'test/15091', 'test/15092', 'test/15093', 'test/15094', 'test/15095', 'test/15096', 'test/15097', 'test/15103', 'test/15104', 'test/15106', 'test/15107', 'test/15109', 'test/15110', 'test/15111', 'test/15112', 'test/15118', 'test/15119', 'test/15120', 'test/15121', 'test/15122', 'test/15124', 'test/15126', 'test/15128', 'test/15129', 'test/15130', 'test/15132', 'test/15136', 'test/15138', 'test/15141', 'test/15144', 'test/15145', 'test/15146', 'test/15149', 'test/15152', 'test/15153', 'test/15154', 'test/15156', 'test/15157', 'test/15161', 'test/15162', 'test/15171', 'test/15172', 'test/15175', 'test/15179', 'test/15180', 'test/15185', 'test/15188', 'test/15189', 'test/15190', 'test/15193', 'test/15194', 'test/15197', 'test/15198', 'test/15200', 'test/15204', 'test/15205', 'test/15206', 'test/15207', 'test/15208', 'test/15210', 'test/15211', 'test/15212', 'test/15213', 'test/15217', 'test/15219', 'test/15220', 'test/15221', 'test/15222', 'test/15223', 'test/15226', 'test/15227', 'test/15230', 'test/15233', 'test/15234', 'test/15237', 'test/15238', 'test/15239', 'test/15240', 'test/15242', 'test/15243', 'test/15244', 'test/15246', 'test/15247', 'test/15250', 'test/15253', 'test/15254', 'test/15255', 'test/15258', 'test/15259', 'test/15262', 'test/15263', 'test/15264', 'test/15265', 'test/15270', 'test/15271', 'test/15273', 'test/15274', 'test/15276', 'test/15278', 'test/15280', 'test/15281', 'test/15283', 'test/15287', 'test/15290', 'test/15292', 'test/15294', 'test/15295', 'test/15296', 'test/15299', 'test/15300', 'test/15302', 'test/15303', 'test/15306', 'test/15307', 'test/15308', 'test/15309', 'test/15310', 'test/15311', 'test/15312', 'test/15313', 'test/15314', 'test/15315', 'test/15321', 'test/15322', 'test/15324', 'test/15325', 'test/15326', 'test/15327', 'test/15329', 'test/15335', 'test/15336', 'test/15337', 'test/15339', 'test/15341', 'test/15344', 'test/15345', 'test/15348', 'test/15349', 'test/15351', 'test/15352', 'test/15354', 'test/15356', 'test/15357', 'test/15359', 'test/15363', 'test/15364', 'test/15365', 'test/15366', 'test/15367', 'test/15368', 'test/15372', 'test/15375', 'test/15378', 'test/15379', 'test/15380', 'test/15383', 'test/15384', 'test/15386', 'test/15387', 'test/15388', 'test/15389', 'test/15391', 'test/15394', 'test/15396', 'test/15397', 'test/15400', 'test/15404', 'test/15406', 'test/15409', 'test/15410', 'test/15411', 'test/15413', 'test/15415', 'test/15416', 'test/15417', 'test/15420', 'test/15421', 'test/15424', 'test/15425', 'test/15427', 'test/15428', 'test/15429', 'test/15430', 'test/15431', 'test/15432', 'test/15436', 'test/15438', 'test/15441', 'test/15442', 'test/15444', 'test/15446', 'test/15447', 'test/15448', 'test/15449', 'test/15450', 'test/15451', 'test/15452', 'test/15453', 'test/15454', 'test/15455', 'test/15457', 'test/15459', 'test/15460', 'test/15462', 'test/15464', 'test/15467', 'test/15468', 'test/15471', 'test/15472', 'test/15476', 'test/15477', 'test/15478', 'test/15479', 'test/15481', 'test/15482', 'test/15483', 'test/15484', 'test/15485', 'test/15487', 'test/15489', 'test/15494', 'test/15495', 'test/15496', 'test/15500', 'test/15501', 'test/15503', 'test/15504', 'test/15510', 'test/15511', 'test/15515', 'test/15520', 'test/15521', 'test/15522', 'test/15523', 'test/15527', 'test/15528', 'test/15531', 'test/15532', 'test/15535', 'test/15536', 'test/15539', 'test/15540', 'test/15542', 'test/15543', 'test/15544', 'test/15545', 'test/15547', 'test/15548', 'test/15549', 'test/15550', 'test/15551', 'test/15552', 'test/15553', 'test/15556', 'test/15558', 'test/15559', 'test/15560', 'test/15561', 'test/15562', 'test/15563', 'test/15565', 'test/15566', 'test/15567', 'test/15568', 'test/15569', 'test/15570', 'test/15571', 'test/15572', 'test/15573', 'test/15574', 'test/15575', 'test/15578', 'test/15579', 'test/15580', 'test/15581', 'test/15582', 'test/15583', 'test/15584', 'test/15585', 'test/15590', 'test/15591', 'test/15593', 'test/15594', 'test/15595', 'test/15596', 'test/15597', 'test/15598', 'test/15600', 'test/15601', 'test/15602', 'test/15603', 'test/15605', 'test/15607', 'test/15610', 'test/15613', 'test/15615', 'test/15616', 'test/15617', 'test/15618', 'test/15620', 'test/15621', 'test/15623', 'test/15624', 'test/15625', 'test/15626', 'test/15629', 'test/15632', 'test/15634', 'test/15636', 'test/15637', 'test/15639', 'test/15640', 'test/15641', 'test/15642', 'test/15643', 'test/15646', 'test/15648', 'test/15649', 'test/15651', 'test/15653', 'test/15655', 'test/15656', 'test/15664', 'test/15666', 'test/15667', 'test/15668', 'test/15669', 'test/15672', 'test/15674', 'test/15675', 'test/15676', 'test/15677', 'test/15679', 'test/15680', 'test/15682', 'test/15686', 'test/15688', 'test/15689', 'test/15691', 'test/15692', 'test/15694', 'test/15695', 'test/15696', 'test/15698', 'test/15702', 'test/15703', 'test/15704', 'test/15707', 'test/15708', 'test/15709', 'test/15710', 'test/15713', 'test/15715', 'test/15717', 'test/15719', 'test/15720', 'test/15721', 'test/15723', 'test/15725', 'test/15726', 'test/15727', 'test/15728', 'test/15729', 'test/15732', 'test/15733', 'test/15736', 'test/15737', 'test/15739', 'test/15742', 'test/15749', 'test/15751', 'test/15753', 'test/15757', 'test/15759', 'test/15762', 'test/15767', 'test/15768', 'test/15769', 'test/15772', 'test/15777', 'test/15778', 'test/15780', 'test/15782', 'test/15785', 'test/15790', 'test/15793', 'test/15797', 'test/15798', 'test/15800', 'test/15801', 'test/15803', 'test/15804', 'test/15805', 'test/15807', 'test/15808', 'test/15810', 'test/15811', 'test/15816', 'test/15817', 'test/15819', 'test/15821', 'test/15822', 'test/15823', 'test/15829', 'test/15831', 'test/15832', 'test/15833', 'test/15834', 'test/15836', 'test/15838', 'test/15840', 'test/15841', 'test/15842', 'test/15844', 'test/15845', 'test/15846', 'test/15847', 'test/15851', 'test/15852', 'test/15853', 'test/15854', 'test/15855', 'test/15856', 'test/15858', 'test/15859', 'test/15860', 'test/15861', 'test/15863', 'test/15864', 'test/15865', 'test/15866', 'test/15867', 'test/15868', 'test/15869', 'test/15870', 'test/15871', 'test/15872', 'test/15874', 'test/15875', 'test/15876', 'test/15877', 'test/15878', 'test/15879', 'test/15881', 'test/15885', 'test/15886', 'test/15888', 'test/15889', 'test/15890', 'test/15892', 'test/15893', 'test/15894', 'test/15895', 'test/15896', 'test/15897', 'test/15898', 'test/15899', 'test/15900', 'test/15901', 'test/15902', 'test/15903', 'test/15904', 'test/15906', 'test/15908', 'test/15909', 'test/15910', 'test/15911', 'test/15912', 'test/15913', 'test/15914', 'test/15916', 'test/15917', 'test/15918', 'test/15920', 'test/15921', 'test/15922', 'test/15923', 'test/15924', 'test/15925', 'test/15927', 'test/15928', 'test/15929', 'test/15930', 'test/15932', 'test/15933', 'test/15934', 'test/15937', 'test/15939', 'test/15942', 'test/15944', 'test/15949', 'test/15950', 'test/15951', 'test/15952', 'test/15953', 'test/15956', 'test/15959', 'test/15960', 'test/15961', 'test/15963', 'test/15964', 'test/15967', 'test/15968', 'test/15969', 'test/15970', 'test/15973', 'test/15975', 'test/15976', 'test/15977', 'test/15978', 'test/15979', 'test/15980', 'test/15981', 'test/15984', 'test/15985', 'test/15987', 'test/15988', 'test/15989', 'test/15993', 'test/15995', 'test/15996', 'test/15997', 'test/15999', 'test/16002', 'test/16003', 'test/16004', 'test/16005', 'test/16006', 'test/16007', 'test/16009', 'test/16012', 'test/16013', 'test/16014', 'test/16015', 'test/16016', 'test/16021', 'test/16022', 'test/16023', 'test/16026', 'test/16029', 'test/16030', 'test/16033', 'test/16037', 'test/16040', 'test/16041', 'test/16045', 'test/16052', 'test/16053', 'test/16055', 'test/16063', 'test/16066', 'test/16067', 'test/16068', 'test/16069', 'test/16071', 'test/16072', 'test/16074', 'test/16075', 'test/16076', 'test/16077', 'test/16079', 'test/16080', 'test/16083', 'test/16086', 'test/16088', 'test/16091', 'test/16093', 'test/16094', 'test/16095', 'test/16096', 'test/16097', 'test/16098', 'test/16099', 'test/16100', 'test/16103', 'test/16106', 'test/16107', 'test/16108', 'test/16110', 'test/16111', 'test/16112', 'test/16115', 'test/16117', 'test/16118', 'test/16119', 'test/16120', 'test/16122', 'test/16123', 'test/16125', 'test/16126', 'test/16130', 'test/16133', 'test/16134', 'test/16136', 'test/16139', 'test/16140', 'test/16141', 'test/16142', 'test/16143', 'test/16144', 'test/16145', 'test/16146', 'test/16147', 'test/16148', 'test/16149', 'test/16150', 'test/16152', 'test/16155', 'test/16158', 'test/16159', 'test/16161', 'test/16162', 'test/16163', 'test/16164', 'test/16166', 'test/16170', 'test/16171', 'test/16172', 'test/16173', 'test/16175', 'test/16176', 'test/16177', 'test/16179', 'test/16180', 'test/16185', 'test/16188', 'test/16189', 'test/16190', 'test/16193', 'test/16194', 'test/16195', 'test/16196', 'test/16197', 'test/16200', 'test/16201', 'test/16202', 'test/16203', 'test/16206', 'test/16207', 'test/16210', 'test/16211', 'test/16212', 'test/16213', 'test/16214', 'test/16215', 'test/16216', 'test/16219', 'test/16221', 'test/16223', 'test/16225', 'test/16226', 'test/16228', 'test/16230', 'test/16232', 'test/16233', 'test/16234', 'test/16236', 'test/16238', 'test/16241', 'test/16243', 'test/16244', 'test/16246', 'test/16247', 'test/16248', 'test/16250', 'test/16251', 'test/16252', 'test/16255', 'test/16256', 'test/16257', 'test/16258', 'test/16260', 'test/16262', 'test/16263', 'test/16264', 'test/16265', 'test/16266', 'test/16268', 'test/16269', 'test/16270', 'test/16271', 'test/16274', 'test/16275', 'test/16277', 'test/16278', 'test/16279', 'test/16281', 'test/16282', 'test/16283', 'test/16284', 'test/16285', 'test/16286', 'test/16287', 'test/16288', 'test/16289', 'test/16291', 'test/16294', 'test/16297', 'test/16298', 'test/16299', 'test/16300', 'test/16301', 'test/16302', 'test/16303', 'test/16304', 'test/16307', 'test/16310', 'test/16311', 'test/16312', 'test/16314', 'test/16315', 'test/16316', 'test/16317', 'test/16318', 'test/16319', 'test/16320', 'test/16324', 'test/16327', 'test/16331', 'test/16332', 'test/16336', 'test/16337', 'test/16339', 'test/16342', 'test/16343', 'test/16346', 'test/16347', 'test/16348', 'test/16350', 'test/16354', 'test/16357', 'test/16359', 'test/16360', 'test/16362', 'test/16363', 'test/16365', 'test/16366', 'test/16367', 'test/16369', 'test/16370', 'test/16371', 'test/16372', 'test/16374', 'test/16376', 'test/16377', 'test/16379', 'test/16380', 'test/16383', 'test/16385', 'test/16386', 'test/16388', 'test/16390', 'test/16392', 'test/16393', 'test/16394', 'test/16395', 'test/16396', 'test/16398', 'test/16399', 'test/16400', 'test/16401', 'test/16402', 'test/16403', 'test/16404', 'test/16405', 'test/16406', 'test/16407', 'test/16409', 'test/16410', 'test/16415', 'test/16417', 'test/16418', 'test/16419', 'test/16420', 'test/16421', 'test/16422', 'test/16424', 'test/16426', 'test/16427', 'test/16428', 'test/16429', 'test/16430', 'test/16432', 'test/16433', 'test/16434', 'test/16437', 'test/16438', 'test/16440', 'test/16441', 'test/16442', 'test/16443', 'test/16444', 'test/16448', 'test/16449', 'test/16450', 'test/16454', 'test/16457', 'test/16458', 'test/16459', 'test/16460', 'test/16461', 'test/16463', 'test/16465', 'test/16468', 'test/16469', 'test/16470', 'test/16471', 'test/16472', 'test/16473', 'test/16475', 'test/16476', 'test/16478', 'test/16479', 'test/16480', 'test/16481', 'test/16483', 'test/16486', 'test/16487', 'test/16488', 'test/16490', 'test/16492', 'test/16493', 'test/16495', 'test/16496', 'test/16499', 'test/16502', 'test/16505', 'test/16510', 'test/16512', 'test/16513', 'test/16518', 'test/16519', 'test/16521', 'test/16522', 'test/16523', 'test/16525', 'test/16527', 'test/16530', 'test/16531', 'test/16533', 'test/16538', 'test/16539', 'test/16545', 'test/16546', 'test/16549', 'test/16551', 'test/16554', 'test/16555', 'test/16561', 'test/16563', 'test/16564', 'test/16565', 'test/16568', 'test/16569', 'test/16570', 'test/16574', 'test/16577', 'test/16581', 'test/16583', 'test/16584', 'test/16585', 'test/16587', 'test/16588', 'test/16589', 'test/16590', 'test/16591']\n"
    }
   ],
   "source": [
    "k=1000\n",
    "docs = [corpus.words(fileid) for fileid in corpus.fileids()[:k]]\n",
    "print(docs[1])\n",
    "print(docs[2])\n",
    "tags = corpus.fileids()[:k]\n",
    "print(tags)"
   ]
  },
  {
   "cell_type": "markdown",
   "metadata": {},
   "source": [
    "## 前処理を行う\n",
    "### nltkストップワードの作成(数字や記号も消す)"
   ]
  },
  {
   "cell_type": "code",
   "execution_count": 40,
   "metadata": {},
   "outputs": [],
   "source": [
    "en_stop = nltk.corpus.stopwords.words('english')\n",
    "en_stop= [\"``\",\"/\",\",.\",\".,\",\";\",\"--\",\":\",\")\",\"(\",'\"','&',\"'\",'),',',\"','-','.,','.,\"','.-',\"?\",\">\",\"<\"]                  \\\n",
    "         +[\"0\",\"1\",\"2\",\"3\",\"4\",\"5\",\"6\",\"7\",\"8\",\"9\",\"10\",\"11\",\"12\",\"86\",\"1986\",\"1987\",\"000\"]                                                      \\\n",
    "         +[\"said\",\"say\",\"u\",\"v\",\"mln\",\"ct\",\"net\",\"dlrs\",\"tonne\",\"pct\",\"shr\",\"nil\",\"company\",\"lt\",\"share\",\"year\",\"billion\",\"price\"]          \\\n",
    "         +en_stop"
   ]
  },
  {
   "cell_type": "markdown",
   "metadata": {},
   "source": [
    "### 前処理関数の作成"
   ]
  },
  {
   "cell_type": "code",
   "execution_count": 41,
   "metadata": {},
   "outputs": [],
   "source": [
    "from nltk.corpus import wordnet as wn #lemmatize関数のためのimport\n",
    "\n",
    "def preprocess_word(word, stopwordset):\n",
    "    \n",
    "    #1.make words lower ex: Python =>python\n",
    "    word=word.lower()\n",
    "    \n",
    "    #2.remove \",\" and \".\"\n",
    "    if word in [\",\",\".\"]:\n",
    "        return None\n",
    "    \n",
    "    #3.remove stopword  ex: the => (None) \n",
    "    if word in stopwordset:\n",
    "        return None\n",
    "    \n",
    "    #4.lemmatize  ex: cooked=>cook\n",
    "    lemma = wn.morphy(word)\n",
    "    if lemma is None:\n",
    "        return word\n",
    "\n",
    "    elif lemma in stopwordset: #lemmatizeしたものがstopwordである可能性がある\n",
    "        return None\n",
    "    else:\n",
    "        return lemma\n",
    "    \n",
    "\n",
    "def preprocess_document(document):\n",
    "    document=[preprocess_word(w, en_stop) for w in document]\n",
    "    document=[w for w in document if w is not None]\n",
    "    return document\n",
    "\n",
    "def preprocess_documents(documents):\n",
    "    return [preprocess_document(document) for document in documents]"
   ]
  },
  {
   "cell_type": "markdown",
   "metadata": {},
   "source": [
    "### 前処理の結果を出力\n",
    "### 前処理前"
   ]
  },
  {
   "cell_type": "code",
   "execution_count": 113,
   "metadata": {
    "tags": []
   },
   "outputs": [
    {
     "output_type": "stream",
     "name": "stdout",
     "text": "['ASIAN', 'EXPORTERS', 'FEAR', 'DAMAGE', 'FROM', 'U', '.', 'S', '.-', 'JAPAN', 'RIFT', 'Mounting']\n"
    }
   ],
   "source": [
    "print(docs[0][:12])"
   ]
  },
  {
   "cell_type": "markdown",
   "metadata": {},
   "source": [
    "### 前処理後"
   ]
  },
  {
   "cell_type": "code",
   "execution_count": 104,
   "metadata": {
    "tags": []
   },
   "outputs": [
    {
     "output_type": "stream",
     "name": "stdout",
     "text": "[['asian', 'exporter', 'fear', 'damage', 'japan', 'rift', 'mounting', 'trade', 'friction', 'japan', 'raise', 'fear', 'among', 'many', 'asia', 'exporting', 'nation', 'row', 'could', 'inflict', 'far', 'reaching', 'economic', 'damage', 'businessmen', 'official', 'tell', 'reuter', 'correspondent', 'asian', 'capital', 'move', 'japan', 'might', 'boost', 'protectionist', 'sentiment', 'lead', 'curb', 'american', 'import', 'product', 'exporter', 'conflict', 'would', 'hurt', 'long', 'run', 'short', 'term', 'tokyo', 'loss', 'might', 'gain', 'impose', '300', 'tariff', 'import', 'japanese', 'electronics', 'good', 'april', '17', 'retaliation', 'japan', 'allege', 'failure', 'stick', 'pact', 'sell', 'semiconductor', 'world', 'market', 'cost', 'unofficial', 'japanese', 'estimate', 'put', 'impact', 'tariff', 'spokesman', 'major', 'electronics', 'firm', 'would', 'virtually', 'halt', 'export', 'product', 'hit', 'new', 'tax', 'able', 'business', 'spokesman', 'leading', 'japanese', 'electronics', 'firm', 'matsushita', 'electric', 'industrial', 'co', 'ltd', 'mc', '>.', 'tariff', 'remain', 'place', 'length', 'time', 'beyond', 'month', 'mean', 'complete', 'erosion', 'export', 'good', 'subject', 'tariff', 'tom', 'murtha', 'stock', 'analyst', 'tokyo', 'office', 'broker', 'james', 'capel', 'co', '>.', 'taiwan', 'businessmen', 'official', 'also', 'worry', 'aware', 'seriousness', 'threat', 'japan', 'serve', 'warning', 'us', 'senior', 'taiwanese', 'trade', 'official', 'ask', 'name', 'taiwan', 'trade', 'trade', 'surplus', '15', 'last', '95', 'surplus', 'help', 'swell', 'taiwan', 'foreign', 'exchange', 'reserves', '53', 'among', 'world', 'large', 'must', 'quickly', 'open', 'market', 'remove', 'trade', 'barrier', 'cut', 'import', 'tariff', 'allow', 'import', 'product', 'want', 'defuse', 'problem', 'possible', 'retaliation', 'paul', 'sheen', 'chairman', 'textile', 'exporter', 'taiwan', 'safe', 'group', '>.', 'senior', 'official', 'south', 'korea', 'trade', 'promotion', 'association', 'trade', 'dispute', 'japan', 'might', 'also', 'lead', 'pressure', 'south', 'korea', 'whose', 'chief', 'export', 'similar', 'japan', 'last', 'south', 'korea', 'trade', 'surplus', '1985', 'malaysia', 'trade', 'officer', 'businessmen', 'tough', 'curb', 'japan', 'might', 'allow', 'hard', 'hit', 'producer', 'semiconductor', 'third', 'country', 'expand', 'sales', 'hong', 'kong', 'newspaper', 'allege', 'japan', 'selling', 'cost', 'semiconductor', 'electronics', 'manufacturer', 'view', 'businessmen', 'short', 'term', 'commercial', 'advantage', 'would', 'outweigh', 'pressure', 'block', 'import', 'short', 'term', 'view', 'lawrence', 'mills', 'director', 'general', 'federation', 'hong', 'kong', 'industry', 'whole', 'purpose', 'prevent', 'import', 'one', 'day', 'extend', 'source', 'much', 'serious', 'hong', 'kong', 'disadvantage', 'action', 'restrain', 'trade', 'last', 'hong', 'kong', 'big', 'export', 'market', 'accounting', '30', 'domestically', 'produce', 'export', 'australian', 'government', 'await', 'outcome', 'trade', 'talks', 'japan', 'interest', 'concern', 'industry', 'minister', 'john', 'button', 'canberra', 'last', 'friday', 'kind', 'deterioration', 'trade', 'relations', 'two', 'country', 'major', 'trading', 'partner', 'serious', 'matter', 'button', 'australia', 'concern', 'centre', 'coal', 'beef', 'australia', 'two', 'large', 'export', 'japan', 'also', 'significant', 'export', 'country', 'meanwhile', 'japanese', 'diplomatic', 'manoeuvre', 'solve', 'trade', 'stand', 'continue', 'japan', 'ruling', 'liberal', 'democratic', 'party', 'yesterday', 'outline', 'package', 'economic', 'measure', 'boost', 'japanese', 'economy', 'measure', 'propose', 'include', 'large', 'supplementary', 'budget', 'record', 'public', 'works', 'spending', 'first', 'half', 'financial', 'also', 'call', 'step', 'spending', 'emergency', 'measure', 'stimulate', 'economy', 'despite', 'prime', 'minister', 'yasuhiro', 'nakasone', 'avow', 'fiscal', 'reform', 'program', 'deputy', 'trade', 'representative', 'michael', 'smith', 'makoto', 'kuroda', 'japan', 'deputy', 'minister', 'international', 'trade', 'industry', 'miti', 'due', 'meet', 'washington', 'week', 'effort', 'end', 'dispute']]\n"
    }
   ],
   "source": [
    "print(preprocess_documents(docs)[0:][:1])"
   ]
  },
  {
   "cell_type": "markdown",
   "metadata": {},
   "source": [
    " ## クラスタリングパート\n",
    " ### tf-idfで前処理を施した文章をベクトル化\n",
    " ### vectorizerを使用する。(ハイパーパラメータを設定する)"
   ]
  },
  {
   "cell_type": "code",
   "execution_count": 125,
   "metadata": {
    "tags": []
   },
   "outputs": [
    {
     "output_type": "stream",
     "name": "stdout",
     "text": "asian exporter fear damage japan rift mounting trade friction japan raise fear among many asia exporting nation row could inflict far reaching economic damage businessmen official tell reuter correspondent asian capital move japan might boost protectionist sentiment lead curb american import product exporter conflict would hurt long run short term tokyo loss might gain impose 300 tariff import japanese electronics good april 17 retaliation japan allege failure stick pact sell semiconductor world market cost unofficial japanese estimate put impact tariff spokesman major electronics firm would virtually halt export product hit new tax able business spokesman leading japanese electronics firm matsushita electric industrial co ltd mc >. tariff remain place length time beyond month mean complete erosion export good subject tariff tom murtha stock analyst tokyo office broker james capel co >. taiwan businessmen official also worry aware seriousness threat japan serve warning us senior taiwanese trade official ask name taiwan trade trade surplus 15 last 95 surplus help swell taiwan foreign exchange reserves 53 among world large must quickly open market remove trade barrier cut import tariff allow import product want defuse problem possible retaliation paul sheen chairman textile exporter taiwan safe group >. senior official south korea trade promotion association trade dispute japan might also lead pressure south korea whose chief export similar japan last south korea trade surplus 1985 malaysia trade officer businessmen tough curb japan might allow hard hit producer semiconductor third country expand sales hong kong newspaper allege japan selling cost semiconductor electronics manufacturer view businessmen short term commercial advantage would outweigh pressure block import short term view lawrence mills director general federation hong kong industry whole purpose prevent import one day extend source much serious hong kong disadvantage action restrain trade last hong kong big export market accounting 30 domestically produce export australian government await outcome trade talks japan interest concern industry minister john button canberra last friday kind deterioration trade relations two country major trading partner serious matter button australia concern centre coal beef australia two large export japan also significant export country meanwhile japanese diplomatic manoeuvre solve trade stand continue japan ruling liberal democratic party yesterday outline package economic measure boost japanese economy measure propose include large supplementary budget record public works spending first half financial also call step spending emergency measure stimulate economy despite prime minister yasuhiro nakasone avow fiscal reform program deputy trade representative michael smith makoto kuroda japan deputy minister international trade industry miti due meet washington week effort end dispute\n"
    }
   ],
   "source": [
    "pre_docs=preprocess_documents(docs)\n",
    "pre_docs=[\" \".join(doc) for doc in pre_docs]\n",
    "print(pre_docs[0])\n",
    "\n",
    "vectorizer = TfidfVectorizer(max_features=40, token_pattern=u'(?u)\\\\b\\\\w+\\\\b' )\n",
    "\n",
    "# fitさせる\n",
    "tf_idf = vectorizer.fit_transform(pre_docs)\n",
    "print(type(tf_idf))"
   ]
  },
  {
   "cell_type": "markdown",
   "metadata": {},
   "source": [
    "### k-means\n",
    "### k-meansの設定  \n",
    "後々いろいろなクラスター数で分析を行うために、関数を定義しておく。具体的には、クラスタ分類のクラス分けと、クラスター分けされた集合でのinertiaを算出する。"
   ]
  },
  {
   "cell_type": "code",
   "execution_count": 127,
   "metadata": {},
   "outputs": [],
   "source": [
    "def kmeans_function(n_clusters, vec):\n",
    "    km = KMeans(n_clusters=n_clusters,random_state = 0)\n",
    "    clusters = km.fit_predict(vec)\n",
    "    inertia = km.inertia_\n",
    "    return clusters, inertia"
   ]
  },
  {
   "cell_type": "markdown",
   "metadata": {},
   "source": [
    "### テスト（クラスター数5）    "
   ]
  },
  {
   "cell_type": "code",
   "execution_count": 128,
   "metadata": {
    "tags": []
   },
   "outputs": [
    {
     "output_type": "stream",
     "name": "stdout",
     "text": "Counter({4: 533, 2: 170, 3: 118, 1: 102, 0: 77})\n707.2037915780845\n"
    }
   ],
   "source": [
    "pred , inertia = kmeans_function(5,tf_idf)\n",
    "print(collections.Counter(pred))\n",
    "print(inertia)"
   ]
  },
  {
   "cell_type": "markdown",
   "metadata": {
    "tags": []
   },
   "source": [
    "### クラスター数を色々分けて使ってみる。"
   ]
  },
  {
   "cell_type": "code",
   "execution_count": 129,
   "metadata": {
    "tags": []
   },
   "outputs": [
    {
     "output_type": "stream",
     "name": "stdout",
     "text": "Number of cluster is 1-------------------------------------------\nCounter({0: 1000})\n858.4352956058827\nNumber of cluster is 2-------------------------------------------\nCounter({1: 668, 0: 332})\n803.5000696897869\nNumber of cluster is 3-------------------------------------------\nCounter({0: 605, 2: 247, 1: 148})\n765.8470138788324\nNumber of cluster is 4-------------------------------------------\nCounter({3: 527, 2: 174, 1: 157, 0: 142})\n733.9949321041402\nNumber of cluster is 5-------------------------------------------\nCounter({4: 533, 2: 170, 3: 118, 1: 102, 0: 77})\n707.2037915780845\nNumber of cluster is 6-------------------------------------------\nCounter({3: 421, 5: 171, 1: 135, 2: 103, 4: 93, 0: 77})\n684.5891387636858\nNumber of cluster is 7-------------------------------------------\nCounter({1: 241, 2: 212, 6: 160, 5: 120, 4: 104, 0: 88, 3: 75})\n666.2766282054632\nNumber of cluster is 8-------------------------------------------\nCounter({0: 307, 5: 135, 3: 122, 6: 115, 4: 94, 1: 89, 7: 72, 2: 66})\n642.869540641783\nNumber of cluster is 9-------------------------------------------\nCounter({3: 394, 5: 118, 2: 92, 7: 84, 1: 77, 6: 73, 0: 69, 8: 49, 4: 44})\n625.1346393237105\nNumber of cluster is 10-------------------------------------------\nCounter({4: 351, 1: 108, 0: 106, 5: 84, 7: 69, 9: 68, 6: 63, 3: 61, 8: 46, 2: 44})\n607.7494088888244\nNumber of cluster is 11-------------------------------------------\nCounter({3: 322, 5: 114, 2: 80, 7: 79, 6: 74, 10: 73, 1: 69, 9: 55, 8: 48, 4: 44, 0: 42})\n589.6202363692057\nNumber of cluster is 12-------------------------------------------\nCounter({1: 181, 11: 124, 2: 102, 7: 85, 5: 80, 4: 75, 6: 75, 3: 68, 0: 64, 8: 60, 10: 49, 9: 37})\n568.0350306085379\nNumber of cluster is 13-------------------------------------------\nCounter({1: 184, 2: 102, 7: 87, 5: 81, 6: 76, 11: 75, 3: 68, 0: 64, 4: 63, 8: 60, 12: 59, 10: 44, 9: 37})\n550.4025554727351\nNumber of cluster is 14-------------------------------------------\nCounter({1: 183, 2: 102, 7: 87, 5: 81, 6: 74, 3: 68, 0: 64, 4: 60, 8: 60, 12: 57, 13: 51, 10: 46, 9: 36, 11: 31})\n538.7539362807971\nNumber of cluster is 15-------------------------------------------\nCounter({4: 243, 0: 86, 3: 79, 5: 69, 9: 67, 14: 65, 13: 63, 1: 53, 10: 44, 8: 44, 11: 41, 7: 41, 2: 39, 12: 38, 6: 28})\n530.9624154935049\nNumber of cluster is 16-------------------------------------------\nCounter({4: 227, 3: 78, 0: 77, 9: 67, 13: 63, 14: 61, 5: 60, 15: 46, 1: 45, 10: 44, 8: 44, 11: 42, 7: 41, 2: 39, 12: 38, 6: 28})\n516.5282806332912\nNumber of cluster is 17-------------------------------------------\nCounter({4: 202, 16: 74, 3: 73, 9: 66, 0: 64, 13: 63, 14: 56, 5: 46, 10: 45, 15: 44, 8: 43, 11: 42, 7: 40, 1: 39, 2: 38, 12: 37, 6: 28})\n507.2444149238841\nNumber of cluster is 18-------------------------------------------\nCounter({2: 95, 5: 92, 3: 64, 16: 63, 0: 61, 8: 60, 7: 58, 14: 57, 1: 55, 4: 53, 17: 52, 15: 52, 13: 48, 10: 42, 12: 41, 6: 40, 9: 36, 11: 31})\n498.88597095760156\nNumber of cluster is 19-------------------------------------------\nCounter({11: 148, 17: 72, 2: 62, 14: 60, 13: 58, 10: 58, 12: 58, 3: 52, 0: 48, 8: 47, 4: 45, 5: 41, 6: 41, 9: 41, 18: 39, 16: 35, 1: 33, 7: 32, 15: 30})\n486.37717355100153\n"
    }
   ],
   "source": [
    "x=np.empty(0)\n",
    "y=np.empty(0) \n",
    "for i in range(1,20):\n",
    "    pred, inertia = kmeans_function(i, tf_idf)\n",
    "    print('Number of cluster is '+ str(i) + '-------------------------------------------')\n",
    "    print(collections.Counter(pred))\n",
    "    print(inertia)\n",
    "    x = np.append(x,i)\n",
    "    y = np.append(y,inertia)"
   ]
  },
  {
   "cell_type": "markdown",
   "metadata": {},
   "source": [
    "### kmeansの評価（各クラスター内の二乗誤差）"
   ]
  },
  {
   "cell_type": "code",
   "execution_count": 130,
   "metadata": {},
   "outputs": [
    {
     "output_type": "display_data",
     "data": {
      "text/plain": "<Figure size 432x288 with 1 Axes>",
      "image/svg+xml": "<?xml version=\"1.0\" encoding=\"utf-8\" standalone=\"no\"?>\n<!DOCTYPE svg PUBLIC \"-//W3C//DTD SVG 1.1//EN\"\n  \"http://www.w3.org/Graphics/SVG/1.1/DTD/svg11.dtd\">\n<!-- Created with matplotlib (https://matplotlib.org/) -->\n<svg height=\"277.314375pt\" version=\"1.1\" viewBox=\"0 0 388.965625 277.314375\" width=\"388.965625pt\" xmlns=\"http://www.w3.org/2000/svg\" xmlns:xlink=\"http://www.w3.org/1999/xlink\">\n <defs>\n  <style type=\"text/css\">\n*{stroke-linecap:butt;stroke-linejoin:round;}\n  </style>\n </defs>\n <g id=\"figure_1\">\n  <g id=\"patch_1\">\n   <path d=\"M 0 277.314375 \nL 388.965625 277.314375 \nL 388.965625 0 \nL 0 0 \nz\n\" style=\"fill:none;\"/>\n  </g>\n  <g id=\"axes_1\">\n   <g id=\"patch_2\">\n    <path d=\"M 46.965625 239.758125 \nL 381.765625 239.758125 \nL 381.765625 22.318125 \nL 46.965625 22.318125 \nz\n\" style=\"fill:#ffffff;\"/>\n   </g>\n   <g id=\"matplotlib.axis_1\">\n    <g id=\"xtick_1\">\n     <g id=\"line2d_1\">\n      <defs>\n       <path d=\"M 0 0 \nL 0 3.5 \n\" id=\"m260aa56589\" style=\"stroke:#000000;stroke-width:0.8;\"/>\n      </defs>\n      <g>\n       <use style=\"stroke:#000000;stroke-width:0.8;\" x=\"87.547443\" xlink:href=\"#m260aa56589\" y=\"239.758125\"/>\n      </g>\n     </g>\n     <g id=\"text_1\">\n      <!-- 2.5 -->\n      <defs>\n       <path d=\"M 19.1875 8.296875 \nL 53.609375 8.296875 \nL 53.609375 0 \nL 7.328125 0 \nL 7.328125 8.296875 \nQ 12.9375 14.109375 22.625 23.890625 \nQ 32.328125 33.6875 34.8125 36.53125 \nQ 39.546875 41.84375 41.421875 45.53125 \nQ 43.3125 49.21875 43.3125 52.78125 \nQ 43.3125 58.59375 39.234375 62.25 \nQ 35.15625 65.921875 28.609375 65.921875 \nQ 23.96875 65.921875 18.8125 64.3125 \nQ 13.671875 62.703125 7.8125 59.421875 \nL 7.8125 69.390625 \nQ 13.765625 71.78125 18.9375 73 \nQ 24.125 74.21875 28.421875 74.21875 \nQ 39.75 74.21875 46.484375 68.546875 \nQ 53.21875 62.890625 53.21875 53.421875 \nQ 53.21875 48.921875 51.53125 44.890625 \nQ 49.859375 40.875 45.40625 35.40625 \nQ 44.1875 33.984375 37.640625 27.21875 \nQ 31.109375 20.453125 19.1875 8.296875 \nz\n\" id=\"DejaVuSans-50\"/>\n       <path d=\"M 10.6875 12.40625 \nL 21 12.40625 \nL 21 0 \nL 10.6875 0 \nz\n\" id=\"DejaVuSans-46\"/>\n       <path d=\"M 10.796875 72.90625 \nL 49.515625 72.90625 \nL 49.515625 64.59375 \nL 19.828125 64.59375 \nL 19.828125 46.734375 \nQ 21.96875 47.46875 24.109375 47.828125 \nQ 26.265625 48.1875 28.421875 48.1875 \nQ 40.625 48.1875 47.75 41.5 \nQ 54.890625 34.8125 54.890625 23.390625 \nQ 54.890625 11.625 47.5625 5.09375 \nQ 40.234375 -1.421875 26.90625 -1.421875 \nQ 22.3125 -1.421875 17.546875 -0.640625 \nQ 12.796875 0.140625 7.71875 1.703125 \nL 7.71875 11.625 \nQ 12.109375 9.234375 16.796875 8.0625 \nQ 21.484375 6.890625 26.703125 6.890625 \nQ 35.15625 6.890625 40.078125 11.328125 \nQ 45.015625 15.765625 45.015625 23.390625 \nQ 45.015625 31 40.078125 35.4375 \nQ 35.15625 39.890625 26.703125 39.890625 \nQ 22.75 39.890625 18.8125 39.015625 \nQ 14.890625 38.140625 10.796875 36.28125 \nz\n\" id=\"DejaVuSans-53\"/>\n      </defs>\n      <g transform=\"translate(79.595881 254.356562)scale(0.1 -0.1)\">\n       <use xlink:href=\"#DejaVuSans-50\"/>\n       <use x=\"63.623047\" xlink:href=\"#DejaVuSans-46\"/>\n       <use x=\"95.410156\" xlink:href=\"#DejaVuSans-53\"/>\n      </g>\n     </g>\n    </g>\n    <g id=\"xtick_2\">\n     <g id=\"line2d_2\">\n      <g>\n       <use style=\"stroke:#000000;stroke-width:0.8;\" x=\"129.82017\" xlink:href=\"#m260aa56589\" y=\"239.758125\"/>\n      </g>\n     </g>\n     <g id=\"text_2\">\n      <!-- 5.0 -->\n      <defs>\n       <path d=\"M 31.78125 66.40625 \nQ 24.171875 66.40625 20.328125 58.90625 \nQ 16.5 51.421875 16.5 36.375 \nQ 16.5 21.390625 20.328125 13.890625 \nQ 24.171875 6.390625 31.78125 6.390625 \nQ 39.453125 6.390625 43.28125 13.890625 \nQ 47.125 21.390625 47.125 36.375 \nQ 47.125 51.421875 43.28125 58.90625 \nQ 39.453125 66.40625 31.78125 66.40625 \nz\nM 31.78125 74.21875 \nQ 44.046875 74.21875 50.515625 64.515625 \nQ 56.984375 54.828125 56.984375 36.375 \nQ 56.984375 17.96875 50.515625 8.265625 \nQ 44.046875 -1.421875 31.78125 -1.421875 \nQ 19.53125 -1.421875 13.0625 8.265625 \nQ 6.59375 17.96875 6.59375 36.375 \nQ 6.59375 54.828125 13.0625 64.515625 \nQ 19.53125 74.21875 31.78125 74.21875 \nz\n\" id=\"DejaVuSans-48\"/>\n      </defs>\n      <g transform=\"translate(121.868608 254.356562)scale(0.1 -0.1)\">\n       <use xlink:href=\"#DejaVuSans-53\"/>\n       <use x=\"63.623047\" xlink:href=\"#DejaVuSans-46\"/>\n       <use x=\"95.410156\" xlink:href=\"#DejaVuSans-48\"/>\n      </g>\n     </g>\n    </g>\n    <g id=\"xtick_3\">\n     <g id=\"line2d_3\">\n      <g>\n       <use style=\"stroke:#000000;stroke-width:0.8;\" x=\"172.092898\" xlink:href=\"#m260aa56589\" y=\"239.758125\"/>\n      </g>\n     </g>\n     <g id=\"text_3\">\n      <!-- 7.5 -->\n      <defs>\n       <path d=\"M 8.203125 72.90625 \nL 55.078125 72.90625 \nL 55.078125 68.703125 \nL 28.609375 0 \nL 18.3125 0 \nL 43.21875 64.59375 \nL 8.203125 64.59375 \nz\n\" id=\"DejaVuSans-55\"/>\n      </defs>\n      <g transform=\"translate(164.141335 254.356562)scale(0.1 -0.1)\">\n       <use xlink:href=\"#DejaVuSans-55\"/>\n       <use x=\"63.623047\" xlink:href=\"#DejaVuSans-46\"/>\n       <use x=\"95.410156\" xlink:href=\"#DejaVuSans-53\"/>\n      </g>\n     </g>\n    </g>\n    <g id=\"xtick_4\">\n     <g id=\"line2d_4\">\n      <g>\n       <use style=\"stroke:#000000;stroke-width:0.8;\" x=\"214.365625\" xlink:href=\"#m260aa56589\" y=\"239.758125\"/>\n      </g>\n     </g>\n     <g id=\"text_4\">\n      <!-- 10.0 -->\n      <defs>\n       <path d=\"M 12.40625 8.296875 \nL 28.515625 8.296875 \nL 28.515625 63.921875 \nL 10.984375 60.40625 \nL 10.984375 69.390625 \nL 28.421875 72.90625 \nL 38.28125 72.90625 \nL 38.28125 8.296875 \nL 54.390625 8.296875 \nL 54.390625 0 \nL 12.40625 0 \nz\n\" id=\"DejaVuSans-49\"/>\n      </defs>\n      <g transform=\"translate(203.232813 254.356562)scale(0.1 -0.1)\">\n       <use xlink:href=\"#DejaVuSans-49\"/>\n       <use x=\"63.623047\" xlink:href=\"#DejaVuSans-48\"/>\n       <use x=\"127.246094\" xlink:href=\"#DejaVuSans-46\"/>\n       <use x=\"159.033203\" xlink:href=\"#DejaVuSans-48\"/>\n      </g>\n     </g>\n    </g>\n    <g id=\"xtick_5\">\n     <g id=\"line2d_5\">\n      <g>\n       <use style=\"stroke:#000000;stroke-width:0.8;\" x=\"256.638352\" xlink:href=\"#m260aa56589\" y=\"239.758125\"/>\n      </g>\n     </g>\n     <g id=\"text_5\">\n      <!-- 12.5 -->\n      <g transform=\"translate(245.50554 254.356562)scale(0.1 -0.1)\">\n       <use xlink:href=\"#DejaVuSans-49\"/>\n       <use x=\"63.623047\" xlink:href=\"#DejaVuSans-50\"/>\n       <use x=\"127.246094\" xlink:href=\"#DejaVuSans-46\"/>\n       <use x=\"159.033203\" xlink:href=\"#DejaVuSans-53\"/>\n      </g>\n     </g>\n    </g>\n    <g id=\"xtick_6\">\n     <g id=\"line2d_6\">\n      <g>\n       <use style=\"stroke:#000000;stroke-width:0.8;\" x=\"298.91108\" xlink:href=\"#m260aa56589\" y=\"239.758125\"/>\n      </g>\n     </g>\n     <g id=\"text_6\">\n      <!-- 15.0 -->\n      <g transform=\"translate(287.778267 254.356562)scale(0.1 -0.1)\">\n       <use xlink:href=\"#DejaVuSans-49\"/>\n       <use x=\"63.623047\" xlink:href=\"#DejaVuSans-53\"/>\n       <use x=\"127.246094\" xlink:href=\"#DejaVuSans-46\"/>\n       <use x=\"159.033203\" xlink:href=\"#DejaVuSans-48\"/>\n      </g>\n     </g>\n    </g>\n    <g id=\"xtick_7\">\n     <g id=\"line2d_7\">\n      <g>\n       <use style=\"stroke:#000000;stroke-width:0.8;\" x=\"341.183807\" xlink:href=\"#m260aa56589\" y=\"239.758125\"/>\n      </g>\n     </g>\n     <g id=\"text_7\">\n      <!-- 17.5 -->\n      <g transform=\"translate(330.050994 254.356562)scale(0.1 -0.1)\">\n       <use xlink:href=\"#DejaVuSans-49\"/>\n       <use x=\"63.623047\" xlink:href=\"#DejaVuSans-55\"/>\n       <use x=\"127.246094\" xlink:href=\"#DejaVuSans-46\"/>\n       <use x=\"159.033203\" xlink:href=\"#DejaVuSans-53\"/>\n      </g>\n     </g>\n    </g>\n    <g id=\"text_8\">\n     <!-- Number of clusters -->\n     <defs>\n      <path d=\"M 9.8125 72.90625 \nL 23.09375 72.90625 \nL 55.421875 11.921875 \nL 55.421875 72.90625 \nL 64.984375 72.90625 \nL 64.984375 0 \nL 51.703125 0 \nL 19.390625 60.984375 \nL 19.390625 0 \nL 9.8125 0 \nz\n\" id=\"DejaVuSans-78\"/>\n      <path d=\"M 8.5 21.578125 \nL 8.5 54.6875 \nL 17.484375 54.6875 \nL 17.484375 21.921875 \nQ 17.484375 14.15625 20.5 10.265625 \nQ 23.53125 6.390625 29.59375 6.390625 \nQ 36.859375 6.390625 41.078125 11.03125 \nQ 45.3125 15.671875 45.3125 23.6875 \nL 45.3125 54.6875 \nL 54.296875 54.6875 \nL 54.296875 0 \nL 45.3125 0 \nL 45.3125 8.40625 \nQ 42.046875 3.421875 37.71875 1 \nQ 33.40625 -1.421875 27.6875 -1.421875 \nQ 18.265625 -1.421875 13.375 4.4375 \nQ 8.5 10.296875 8.5 21.578125 \nz\nM 31.109375 56 \nz\n\" id=\"DejaVuSans-117\"/>\n      <path d=\"M 52 44.1875 \nQ 55.375 50.25 60.0625 53.125 \nQ 64.75 56 71.09375 56 \nQ 79.640625 56 84.28125 50.015625 \nQ 88.921875 44.046875 88.921875 33.015625 \nL 88.921875 0 \nL 79.890625 0 \nL 79.890625 32.71875 \nQ 79.890625 40.578125 77.09375 44.375 \nQ 74.3125 48.1875 68.609375 48.1875 \nQ 61.625 48.1875 57.5625 43.546875 \nQ 53.515625 38.921875 53.515625 30.90625 \nL 53.515625 0 \nL 44.484375 0 \nL 44.484375 32.71875 \nQ 44.484375 40.625 41.703125 44.40625 \nQ 38.921875 48.1875 33.109375 48.1875 \nQ 26.21875 48.1875 22.15625 43.53125 \nQ 18.109375 38.875 18.109375 30.90625 \nL 18.109375 0 \nL 9.078125 0 \nL 9.078125 54.6875 \nL 18.109375 54.6875 \nL 18.109375 46.1875 \nQ 21.1875 51.21875 25.484375 53.609375 \nQ 29.78125 56 35.6875 56 \nQ 41.65625 56 45.828125 52.96875 \nQ 50 49.953125 52 44.1875 \nz\n\" id=\"DejaVuSans-109\"/>\n      <path d=\"M 48.6875 27.296875 \nQ 48.6875 37.203125 44.609375 42.84375 \nQ 40.53125 48.484375 33.40625 48.484375 \nQ 26.265625 48.484375 22.1875 42.84375 \nQ 18.109375 37.203125 18.109375 27.296875 \nQ 18.109375 17.390625 22.1875 11.75 \nQ 26.265625 6.109375 33.40625 6.109375 \nQ 40.53125 6.109375 44.609375 11.75 \nQ 48.6875 17.390625 48.6875 27.296875 \nz\nM 18.109375 46.390625 \nQ 20.953125 51.265625 25.265625 53.625 \nQ 29.59375 56 35.59375 56 \nQ 45.5625 56 51.78125 48.09375 \nQ 58.015625 40.1875 58.015625 27.296875 \nQ 58.015625 14.40625 51.78125 6.484375 \nQ 45.5625 -1.421875 35.59375 -1.421875 \nQ 29.59375 -1.421875 25.265625 0.953125 \nQ 20.953125 3.328125 18.109375 8.203125 \nL 18.109375 0 \nL 9.078125 0 \nL 9.078125 75.984375 \nL 18.109375 75.984375 \nz\n\" id=\"DejaVuSans-98\"/>\n      <path d=\"M 56.203125 29.59375 \nL 56.203125 25.203125 \nL 14.890625 25.203125 \nQ 15.484375 15.921875 20.484375 11.0625 \nQ 25.484375 6.203125 34.421875 6.203125 \nQ 39.59375 6.203125 44.453125 7.46875 \nQ 49.3125 8.734375 54.109375 11.28125 \nL 54.109375 2.78125 \nQ 49.265625 0.734375 44.1875 -0.34375 \nQ 39.109375 -1.421875 33.890625 -1.421875 \nQ 20.796875 -1.421875 13.15625 6.1875 \nQ 5.515625 13.8125 5.515625 26.8125 \nQ 5.515625 40.234375 12.765625 48.109375 \nQ 20.015625 56 32.328125 56 \nQ 43.359375 56 49.78125 48.890625 \nQ 56.203125 41.796875 56.203125 29.59375 \nz\nM 47.21875 32.234375 \nQ 47.125 39.59375 43.09375 43.984375 \nQ 39.0625 48.390625 32.421875 48.390625 \nQ 24.90625 48.390625 20.390625 44.140625 \nQ 15.875 39.890625 15.1875 32.171875 \nz\n\" id=\"DejaVuSans-101\"/>\n      <path d=\"M 41.109375 46.296875 \nQ 39.59375 47.171875 37.8125 47.578125 \nQ 36.03125 48 33.890625 48 \nQ 26.265625 48 22.1875 43.046875 \nQ 18.109375 38.09375 18.109375 28.8125 \nL 18.109375 0 \nL 9.078125 0 \nL 9.078125 54.6875 \nL 18.109375 54.6875 \nL 18.109375 46.1875 \nQ 20.953125 51.171875 25.484375 53.578125 \nQ 30.03125 56 36.53125 56 \nQ 37.453125 56 38.578125 55.875 \nQ 39.703125 55.765625 41.0625 55.515625 \nz\n\" id=\"DejaVuSans-114\"/>\n      <path id=\"DejaVuSans-32\"/>\n      <path d=\"M 30.609375 48.390625 \nQ 23.390625 48.390625 19.1875 42.75 \nQ 14.984375 37.109375 14.984375 27.296875 \nQ 14.984375 17.484375 19.15625 11.84375 \nQ 23.34375 6.203125 30.609375 6.203125 \nQ 37.796875 6.203125 41.984375 11.859375 \nQ 46.1875 17.53125 46.1875 27.296875 \nQ 46.1875 37.015625 41.984375 42.703125 \nQ 37.796875 48.390625 30.609375 48.390625 \nz\nM 30.609375 56 \nQ 42.328125 56 49.015625 48.375 \nQ 55.71875 40.765625 55.71875 27.296875 \nQ 55.71875 13.875 49.015625 6.21875 \nQ 42.328125 -1.421875 30.609375 -1.421875 \nQ 18.84375 -1.421875 12.171875 6.21875 \nQ 5.515625 13.875 5.515625 27.296875 \nQ 5.515625 40.765625 12.171875 48.375 \nQ 18.84375 56 30.609375 56 \nz\n\" id=\"DejaVuSans-111\"/>\n      <path d=\"M 37.109375 75.984375 \nL 37.109375 68.5 \nL 28.515625 68.5 \nQ 23.6875 68.5 21.796875 66.546875 \nQ 19.921875 64.59375 19.921875 59.515625 \nL 19.921875 54.6875 \nL 34.71875 54.6875 \nL 34.71875 47.703125 \nL 19.921875 47.703125 \nL 19.921875 0 \nL 10.890625 0 \nL 10.890625 47.703125 \nL 2.296875 47.703125 \nL 2.296875 54.6875 \nL 10.890625 54.6875 \nL 10.890625 58.5 \nQ 10.890625 67.625 15.140625 71.796875 \nQ 19.390625 75.984375 28.609375 75.984375 \nz\n\" id=\"DejaVuSans-102\"/>\n      <path d=\"M 48.78125 52.59375 \nL 48.78125 44.1875 \nQ 44.96875 46.296875 41.140625 47.34375 \nQ 37.3125 48.390625 33.40625 48.390625 \nQ 24.65625 48.390625 19.8125 42.84375 \nQ 14.984375 37.3125 14.984375 27.296875 \nQ 14.984375 17.28125 19.8125 11.734375 \nQ 24.65625 6.203125 33.40625 6.203125 \nQ 37.3125 6.203125 41.140625 7.25 \nQ 44.96875 8.296875 48.78125 10.40625 \nL 48.78125 2.09375 \nQ 45.015625 0.34375 40.984375 -0.53125 \nQ 36.96875 -1.421875 32.421875 -1.421875 \nQ 20.0625 -1.421875 12.78125 6.34375 \nQ 5.515625 14.109375 5.515625 27.296875 \nQ 5.515625 40.671875 12.859375 48.328125 \nQ 20.21875 56 33.015625 56 \nQ 37.15625 56 41.109375 55.140625 \nQ 45.0625 54.296875 48.78125 52.59375 \nz\n\" id=\"DejaVuSans-99\"/>\n      <path d=\"M 9.421875 75.984375 \nL 18.40625 75.984375 \nL 18.40625 0 \nL 9.421875 0 \nz\n\" id=\"DejaVuSans-108\"/>\n      <path d=\"M 44.28125 53.078125 \nL 44.28125 44.578125 \nQ 40.484375 46.53125 36.375 47.5 \nQ 32.28125 48.484375 27.875 48.484375 \nQ 21.1875 48.484375 17.84375 46.4375 \nQ 14.5 44.390625 14.5 40.28125 \nQ 14.5 37.15625 16.890625 35.375 \nQ 19.28125 33.59375 26.515625 31.984375 \nL 29.59375 31.296875 \nQ 39.15625 29.25 43.1875 25.515625 \nQ 47.21875 21.78125 47.21875 15.09375 \nQ 47.21875 7.46875 41.1875 3.015625 \nQ 35.15625 -1.421875 24.609375 -1.421875 \nQ 20.21875 -1.421875 15.453125 -0.5625 \nQ 10.6875 0.296875 5.421875 2 \nL 5.421875 11.28125 \nQ 10.40625 8.6875 15.234375 7.390625 \nQ 20.0625 6.109375 24.8125 6.109375 \nQ 31.15625 6.109375 34.5625 8.28125 \nQ 37.984375 10.453125 37.984375 14.40625 \nQ 37.984375 18.0625 35.515625 20.015625 \nQ 33.0625 21.96875 24.703125 23.78125 \nL 21.578125 24.515625 \nQ 13.234375 26.265625 9.515625 29.90625 \nQ 5.8125 33.546875 5.8125 39.890625 \nQ 5.8125 47.609375 11.28125 51.796875 \nQ 16.75 56 26.8125 56 \nQ 31.78125 56 36.171875 55.265625 \nQ 40.578125 54.546875 44.28125 53.078125 \nz\n\" id=\"DejaVuSans-115\"/>\n      <path d=\"M 18.3125 70.21875 \nL 18.3125 54.6875 \nL 36.8125 54.6875 \nL 36.8125 47.703125 \nL 18.3125 47.703125 \nL 18.3125 18.015625 \nQ 18.3125 11.328125 20.140625 9.421875 \nQ 21.96875 7.515625 27.59375 7.515625 \nL 36.8125 7.515625 \nL 36.8125 0 \nL 27.59375 0 \nQ 17.1875 0 13.234375 3.875 \nQ 9.28125 7.765625 9.28125 18.015625 \nL 9.28125 47.703125 \nL 2.6875 47.703125 \nL 2.6875 54.6875 \nL 9.28125 54.6875 \nL 9.28125 70.21875 \nz\n\" id=\"DejaVuSans-116\"/>\n     </defs>\n     <g transform=\"translate(166.673438 268.034687)scale(0.1 -0.1)\">\n      <use xlink:href=\"#DejaVuSans-78\"/>\n      <use x=\"74.804688\" xlink:href=\"#DejaVuSans-117\"/>\n      <use x=\"138.183594\" xlink:href=\"#DejaVuSans-109\"/>\n      <use x=\"235.595703\" xlink:href=\"#DejaVuSans-98\"/>\n      <use x=\"299.072266\" xlink:href=\"#DejaVuSans-101\"/>\n      <use x=\"360.595703\" xlink:href=\"#DejaVuSans-114\"/>\n      <use x=\"401.708984\" xlink:href=\"#DejaVuSans-32\"/>\n      <use x=\"433.496094\" xlink:href=\"#DejaVuSans-111\"/>\n      <use x=\"494.677734\" xlink:href=\"#DejaVuSans-102\"/>\n      <use x=\"529.882812\" xlink:href=\"#DejaVuSans-32\"/>\n      <use x=\"561.669922\" xlink:href=\"#DejaVuSans-99\"/>\n      <use x=\"616.650391\" xlink:href=\"#DejaVuSans-108\"/>\n      <use x=\"644.433594\" xlink:href=\"#DejaVuSans-117\"/>\n      <use x=\"707.8125\" xlink:href=\"#DejaVuSans-115\"/>\n      <use x=\"759.912109\" xlink:href=\"#DejaVuSans-116\"/>\n      <use x=\"799.121094\" xlink:href=\"#DejaVuSans-101\"/>\n      <use x=\"860.644531\" xlink:href=\"#DejaVuSans-114\"/>\n      <use x=\"901.757812\" xlink:href=\"#DejaVuSans-115\"/>\n     </g>\n    </g>\n   </g>\n   <g id=\"matplotlib.axis_2\">\n    <g id=\"ytick_1\">\n     <g id=\"line2d_8\">\n      <defs>\n       <path d=\"M 0 0 \nL -3.5 0 \n\" id=\"m35b3b01f37\" style=\"stroke:#000000;stroke-width:0.8;\"/>\n      </defs>\n      <g>\n       <use style=\"stroke:#000000;stroke-width:0.8;\" x=\"46.965625\" xlink:href=\"#m35b3b01f37\" y=\"222.636745\"/>\n      </g>\n     </g>\n     <g id=\"text_9\">\n      <!-- 500 -->\n      <g transform=\"translate(20.878125 226.435964)scale(0.1 -0.1)\">\n       <use xlink:href=\"#DejaVuSans-53\"/>\n       <use x=\"63.623047\" xlink:href=\"#DejaVuSans-48\"/>\n       <use x=\"127.246094\" xlink:href=\"#DejaVuSans-48\"/>\n      </g>\n     </g>\n    </g>\n    <g id=\"ytick_2\">\n     <g id=\"line2d_9\">\n      <g>\n       <use style=\"stroke:#000000;stroke-width:0.8;\" x=\"46.965625\" xlink:href=\"#m35b3b01f37\" y=\"196.071981\"/>\n      </g>\n     </g>\n     <g id=\"text_10\">\n      <!-- 550 -->\n      <g transform=\"translate(20.878125 199.871199)scale(0.1 -0.1)\">\n       <use xlink:href=\"#DejaVuSans-53\"/>\n       <use x=\"63.623047\" xlink:href=\"#DejaVuSans-53\"/>\n       <use x=\"127.246094\" xlink:href=\"#DejaVuSans-48\"/>\n      </g>\n     </g>\n    </g>\n    <g id=\"ytick_3\">\n     <g id=\"line2d_10\">\n      <g>\n       <use style=\"stroke:#000000;stroke-width:0.8;\" x=\"46.965625\" xlink:href=\"#m35b3b01f37\" y=\"169.507216\"/>\n      </g>\n     </g>\n     <g id=\"text_11\">\n      <!-- 600 -->\n      <defs>\n       <path d=\"M 33.015625 40.375 \nQ 26.375 40.375 22.484375 35.828125 \nQ 18.609375 31.296875 18.609375 23.390625 \nQ 18.609375 15.53125 22.484375 10.953125 \nQ 26.375 6.390625 33.015625 6.390625 \nQ 39.65625 6.390625 43.53125 10.953125 \nQ 47.40625 15.53125 47.40625 23.390625 \nQ 47.40625 31.296875 43.53125 35.828125 \nQ 39.65625 40.375 33.015625 40.375 \nz\nM 52.59375 71.296875 \nL 52.59375 62.3125 \nQ 48.875 64.0625 45.09375 64.984375 \nQ 41.3125 65.921875 37.59375 65.921875 \nQ 27.828125 65.921875 22.671875 59.328125 \nQ 17.53125 52.734375 16.796875 39.40625 \nQ 19.671875 43.65625 24.015625 45.921875 \nQ 28.375 48.1875 33.59375 48.1875 \nQ 44.578125 48.1875 50.953125 41.515625 \nQ 57.328125 34.859375 57.328125 23.390625 \nQ 57.328125 12.15625 50.6875 5.359375 \nQ 44.046875 -1.421875 33.015625 -1.421875 \nQ 20.359375 -1.421875 13.671875 8.265625 \nQ 6.984375 17.96875 6.984375 36.375 \nQ 6.984375 53.65625 15.1875 63.9375 \nQ 23.390625 74.21875 37.203125 74.21875 \nQ 40.921875 74.21875 44.703125 73.484375 \nQ 48.484375 72.75 52.59375 71.296875 \nz\n\" id=\"DejaVuSans-54\"/>\n      </defs>\n      <g transform=\"translate(20.878125 173.306435)scale(0.1 -0.1)\">\n       <use xlink:href=\"#DejaVuSans-54\"/>\n       <use x=\"63.623047\" xlink:href=\"#DejaVuSans-48\"/>\n       <use x=\"127.246094\" xlink:href=\"#DejaVuSans-48\"/>\n      </g>\n     </g>\n    </g>\n    <g id=\"ytick_4\">\n     <g id=\"line2d_11\">\n      <g>\n       <use style=\"stroke:#000000;stroke-width:0.8;\" x=\"46.965625\" xlink:href=\"#m35b3b01f37\" y=\"142.942452\"/>\n      </g>\n     </g>\n     <g id=\"text_12\">\n      <!-- 650 -->\n      <g transform=\"translate(20.878125 146.741671)scale(0.1 -0.1)\">\n       <use xlink:href=\"#DejaVuSans-54\"/>\n       <use x=\"63.623047\" xlink:href=\"#DejaVuSans-53\"/>\n       <use x=\"127.246094\" xlink:href=\"#DejaVuSans-48\"/>\n      </g>\n     </g>\n    </g>\n    <g id=\"ytick_5\">\n     <g id=\"line2d_12\">\n      <g>\n       <use style=\"stroke:#000000;stroke-width:0.8;\" x=\"46.965625\" xlink:href=\"#m35b3b01f37\" y=\"116.377687\"/>\n      </g>\n     </g>\n     <g id=\"text_13\">\n      <!-- 700 -->\n      <g transform=\"translate(20.878125 120.176906)scale(0.1 -0.1)\">\n       <use xlink:href=\"#DejaVuSans-55\"/>\n       <use x=\"63.623047\" xlink:href=\"#DejaVuSans-48\"/>\n       <use x=\"127.246094\" xlink:href=\"#DejaVuSans-48\"/>\n      </g>\n     </g>\n    </g>\n    <g id=\"ytick_6\">\n     <g id=\"line2d_13\">\n      <g>\n       <use style=\"stroke:#000000;stroke-width:0.8;\" x=\"46.965625\" xlink:href=\"#m35b3b01f37\" y=\"89.812923\"/>\n      </g>\n     </g>\n     <g id=\"text_14\">\n      <!-- 750 -->\n      <g transform=\"translate(20.878125 93.612142)scale(0.1 -0.1)\">\n       <use xlink:href=\"#DejaVuSans-55\"/>\n       <use x=\"63.623047\" xlink:href=\"#DejaVuSans-53\"/>\n       <use x=\"127.246094\" xlink:href=\"#DejaVuSans-48\"/>\n      </g>\n     </g>\n    </g>\n    <g id=\"ytick_7\">\n     <g id=\"line2d_14\">\n      <g>\n       <use style=\"stroke:#000000;stroke-width:0.8;\" x=\"46.965625\" xlink:href=\"#m35b3b01f37\" y=\"63.248159\"/>\n      </g>\n     </g>\n     <g id=\"text_15\">\n      <!-- 800 -->\n      <defs>\n       <path d=\"M 31.78125 34.625 \nQ 24.75 34.625 20.71875 30.859375 \nQ 16.703125 27.09375 16.703125 20.515625 \nQ 16.703125 13.921875 20.71875 10.15625 \nQ 24.75 6.390625 31.78125 6.390625 \nQ 38.8125 6.390625 42.859375 10.171875 \nQ 46.921875 13.96875 46.921875 20.515625 \nQ 46.921875 27.09375 42.890625 30.859375 \nQ 38.875 34.625 31.78125 34.625 \nz\nM 21.921875 38.8125 \nQ 15.578125 40.375 12.03125 44.71875 \nQ 8.5 49.078125 8.5 55.328125 \nQ 8.5 64.0625 14.71875 69.140625 \nQ 20.953125 74.21875 31.78125 74.21875 \nQ 42.671875 74.21875 48.875 69.140625 \nQ 55.078125 64.0625 55.078125 55.328125 \nQ 55.078125 49.078125 51.53125 44.71875 \nQ 48 40.375 41.703125 38.8125 \nQ 48.828125 37.15625 52.796875 32.3125 \nQ 56.78125 27.484375 56.78125 20.515625 \nQ 56.78125 9.90625 50.3125 4.234375 \nQ 43.84375 -1.421875 31.78125 -1.421875 \nQ 19.734375 -1.421875 13.25 4.234375 \nQ 6.78125 9.90625 6.78125 20.515625 \nQ 6.78125 27.484375 10.78125 32.3125 \nQ 14.796875 37.15625 21.921875 38.8125 \nz\nM 18.3125 54.390625 \nQ 18.3125 48.734375 21.84375 45.5625 \nQ 25.390625 42.390625 31.78125 42.390625 \nQ 38.140625 42.390625 41.71875 45.5625 \nQ 45.3125 48.734375 45.3125 54.390625 \nQ 45.3125 60.0625 41.71875 63.234375 \nQ 38.140625 66.40625 31.78125 66.40625 \nQ 25.390625 66.40625 21.84375 63.234375 \nQ 18.3125 60.0625 18.3125 54.390625 \nz\n\" id=\"DejaVuSans-56\"/>\n      </defs>\n      <g transform=\"translate(20.878125 67.047377)scale(0.1 -0.1)\">\n       <use xlink:href=\"#DejaVuSans-56\"/>\n       <use x=\"63.623047\" xlink:href=\"#DejaVuSans-48\"/>\n       <use x=\"127.246094\" xlink:href=\"#DejaVuSans-48\"/>\n      </g>\n     </g>\n    </g>\n    <g id=\"ytick_8\">\n     <g id=\"line2d_15\">\n      <g>\n       <use style=\"stroke:#000000;stroke-width:0.8;\" x=\"46.965625\" xlink:href=\"#m35b3b01f37\" y=\"36.683394\"/>\n      </g>\n     </g>\n     <g id=\"text_16\">\n      <!-- 850 -->\n      <g transform=\"translate(20.878125 40.482613)scale(0.1 -0.1)\">\n       <use xlink:href=\"#DejaVuSans-56\"/>\n       <use x=\"63.623047\" xlink:href=\"#DejaVuSans-53\"/>\n       <use x=\"127.246094\" xlink:href=\"#DejaVuSans-48\"/>\n      </g>\n     </g>\n    </g>\n    <g id=\"text_17\">\n     <!-- inertia -->\n     <defs>\n      <path d=\"M 9.421875 54.6875 \nL 18.40625 54.6875 \nL 18.40625 0 \nL 9.421875 0 \nz\nM 9.421875 75.984375 \nL 18.40625 75.984375 \nL 18.40625 64.59375 \nL 9.421875 64.59375 \nz\n\" id=\"DejaVuSans-105\"/>\n      <path d=\"M 54.890625 33.015625 \nL 54.890625 0 \nL 45.90625 0 \nL 45.90625 32.71875 \nQ 45.90625 40.484375 42.875 44.328125 \nQ 39.84375 48.1875 33.796875 48.1875 \nQ 26.515625 48.1875 22.3125 43.546875 \nQ 18.109375 38.921875 18.109375 30.90625 \nL 18.109375 0 \nL 9.078125 0 \nL 9.078125 54.6875 \nL 18.109375 54.6875 \nL 18.109375 46.1875 \nQ 21.34375 51.125 25.703125 53.5625 \nQ 30.078125 56 35.796875 56 \nQ 45.21875 56 50.046875 50.171875 \nQ 54.890625 44.34375 54.890625 33.015625 \nz\n\" id=\"DejaVuSans-110\"/>\n      <path d=\"M 34.28125 27.484375 \nQ 23.390625 27.484375 19.1875 25 \nQ 14.984375 22.515625 14.984375 16.5 \nQ 14.984375 11.71875 18.140625 8.90625 \nQ 21.296875 6.109375 26.703125 6.109375 \nQ 34.1875 6.109375 38.703125 11.40625 \nQ 43.21875 16.703125 43.21875 25.484375 \nL 43.21875 27.484375 \nz\nM 52.203125 31.203125 \nL 52.203125 0 \nL 43.21875 0 \nL 43.21875 8.296875 \nQ 40.140625 3.328125 35.546875 0.953125 \nQ 30.953125 -1.421875 24.3125 -1.421875 \nQ 15.921875 -1.421875 10.953125 3.296875 \nQ 6 8.015625 6 15.921875 \nQ 6 25.140625 12.171875 29.828125 \nQ 18.359375 34.515625 30.609375 34.515625 \nL 43.21875 34.515625 \nL 43.21875 35.40625 \nQ 43.21875 41.609375 39.140625 45 \nQ 35.0625 48.390625 27.6875 48.390625 \nQ 23 48.390625 18.546875 47.265625 \nQ 14.109375 46.140625 10.015625 43.890625 \nL 10.015625 52.203125 \nQ 14.9375 54.109375 19.578125 55.046875 \nQ 24.21875 56 28.609375 56 \nQ 40.484375 56 46.34375 49.84375 \nQ 52.203125 43.703125 52.203125 31.203125 \nz\n\" id=\"DejaVuSans-97\"/>\n     </defs>\n     <g transform=\"translate(14.798438 147.14125)rotate(-90)scale(0.1 -0.1)\">\n      <use xlink:href=\"#DejaVuSans-105\"/>\n      <use x=\"27.783203\" xlink:href=\"#DejaVuSans-110\"/>\n      <use x=\"91.162109\" xlink:href=\"#DejaVuSans-101\"/>\n      <use x=\"152.685547\" xlink:href=\"#DejaVuSans-114\"/>\n      <use x=\"193.798828\" xlink:href=\"#DejaVuSans-116\"/>\n      <use x=\"233.007812\" xlink:href=\"#DejaVuSans-105\"/>\n      <use x=\"260.791016\" xlink:href=\"#DejaVuSans-97\"/>\n     </g>\n    </g>\n   </g>\n   <g id=\"line2d_16\">\n    <path clip-path=\"url(#p3b1eb2ddb5)\" d=\"M 62.183807 32.201761 \nL 79.092898 61.388588 \nL 96.001989 81.393479 \nL 112.91108 98.31634 \nL 129.82017 112.550347 \nL 146.729261 124.565405 \nL 163.638352 134.294756 \nL 180.547443 146.730831 \nL 197.456534 156.153301 \nL 214.365625 165.389992 \nL 231.274716 175.021936 \nL 248.183807 186.490054 \nL 265.092898 195.858105 \nL 282.001989 202.046961 \nL 298.91108 206.18656 \nL 315.82017 213.855348 \nL 332.729261 218.787822 \nL 349.638352 223.228624 \nL 366.547443 229.874489 \n\" style=\"fill:none;stroke:#1f77b4;stroke-linecap:square;stroke-width:1.5;\"/>\n    <defs>\n     <path d=\"M 0 3 \nC 0.795609 3 1.55874 2.683901 2.12132 2.12132 \nC 2.683901 1.55874 3 0.795609 3 0 \nC 3 -0.795609 2.683901 -1.55874 2.12132 -2.12132 \nC 1.55874 -2.683901 0.795609 -3 0 -3 \nC -0.795609 -3 -1.55874 -2.683901 -2.12132 -2.12132 \nC -2.683901 -1.55874 -3 -0.795609 -3 0 \nC -3 0.795609 -2.683901 1.55874 -2.12132 2.12132 \nC -1.55874 2.683901 -0.795609 3 0 3 \nz\n\" id=\"mdebb778e7b\" style=\"stroke:#1f77b4;\"/>\n    </defs>\n    <g clip-path=\"url(#p3b1eb2ddb5)\">\n     <use style=\"fill:#1f77b4;stroke:#1f77b4;\" x=\"62.183807\" xlink:href=\"#mdebb778e7b\" y=\"32.201761\"/>\n     <use style=\"fill:#1f77b4;stroke:#1f77b4;\" x=\"79.092898\" xlink:href=\"#mdebb778e7b\" y=\"61.388588\"/>\n     <use style=\"fill:#1f77b4;stroke:#1f77b4;\" x=\"96.001989\" xlink:href=\"#mdebb778e7b\" y=\"81.393479\"/>\n     <use style=\"fill:#1f77b4;stroke:#1f77b4;\" x=\"112.91108\" xlink:href=\"#mdebb778e7b\" y=\"98.31634\"/>\n     <use style=\"fill:#1f77b4;stroke:#1f77b4;\" x=\"129.82017\" xlink:href=\"#mdebb778e7b\" y=\"112.550347\"/>\n     <use style=\"fill:#1f77b4;stroke:#1f77b4;\" x=\"146.729261\" xlink:href=\"#mdebb778e7b\" y=\"124.565405\"/>\n     <use style=\"fill:#1f77b4;stroke:#1f77b4;\" x=\"163.638352\" xlink:href=\"#mdebb778e7b\" y=\"134.294756\"/>\n     <use style=\"fill:#1f77b4;stroke:#1f77b4;\" x=\"180.547443\" xlink:href=\"#mdebb778e7b\" y=\"146.730831\"/>\n     <use style=\"fill:#1f77b4;stroke:#1f77b4;\" x=\"197.456534\" xlink:href=\"#mdebb778e7b\" y=\"156.153301\"/>\n     <use style=\"fill:#1f77b4;stroke:#1f77b4;\" x=\"214.365625\" xlink:href=\"#mdebb778e7b\" y=\"165.389992\"/>\n     <use style=\"fill:#1f77b4;stroke:#1f77b4;\" x=\"231.274716\" xlink:href=\"#mdebb778e7b\" y=\"175.021936\"/>\n     <use style=\"fill:#1f77b4;stroke:#1f77b4;\" x=\"248.183807\" xlink:href=\"#mdebb778e7b\" y=\"186.490054\"/>\n     <use style=\"fill:#1f77b4;stroke:#1f77b4;\" x=\"265.092898\" xlink:href=\"#mdebb778e7b\" y=\"195.858105\"/>\n     <use style=\"fill:#1f77b4;stroke:#1f77b4;\" x=\"282.001989\" xlink:href=\"#mdebb778e7b\" y=\"202.046961\"/>\n     <use style=\"fill:#1f77b4;stroke:#1f77b4;\" x=\"298.91108\" xlink:href=\"#mdebb778e7b\" y=\"206.18656\"/>\n     <use style=\"fill:#1f77b4;stroke:#1f77b4;\" x=\"315.82017\" xlink:href=\"#mdebb778e7b\" y=\"213.855348\"/>\n     <use style=\"fill:#1f77b4;stroke:#1f77b4;\" x=\"332.729261\" xlink:href=\"#mdebb778e7b\" y=\"218.787822\"/>\n     <use style=\"fill:#1f77b4;stroke:#1f77b4;\" x=\"349.638352\" xlink:href=\"#mdebb778e7b\" y=\"223.228624\"/>\n     <use style=\"fill:#1f77b4;stroke:#1f77b4;\" x=\"366.547443\" xlink:href=\"#mdebb778e7b\" y=\"229.874489\"/>\n    </g>\n   </g>\n   <g id=\"patch_3\">\n    <path d=\"M 46.965625 239.758125 \nL 46.965625 22.318125 \n\" style=\"fill:none;stroke:#000000;stroke-linecap:square;stroke-linejoin:miter;stroke-width:0.8;\"/>\n   </g>\n   <g id=\"patch_4\">\n    <path d=\"M 381.765625 239.758125 \nL 381.765625 22.318125 \n\" style=\"fill:none;stroke:#000000;stroke-linecap:square;stroke-linejoin:miter;stroke-width:0.8;\"/>\n   </g>\n   <g id=\"patch_5\">\n    <path d=\"M 46.965625 239.758125 \nL 381.765625 239.758125 \n\" style=\"fill:none;stroke:#000000;stroke-linecap:square;stroke-linejoin:miter;stroke-width:0.8;\"/>\n   </g>\n   <g id=\"patch_6\">\n    <path d=\"M 46.965625 22.318125 \nL 381.765625 22.318125 \n\" style=\"fill:none;stroke:#000000;stroke-linecap:square;stroke-linejoin:miter;stroke-width:0.8;\"/>\n   </g>\n   <g id=\"text_18\">\n    <!-- tfidf-inertia -->\n    <defs>\n     <path d=\"M 45.40625 46.390625 \nL 45.40625 75.984375 \nL 54.390625 75.984375 \nL 54.390625 0 \nL 45.40625 0 \nL 45.40625 8.203125 \nQ 42.578125 3.328125 38.25 0.953125 \nQ 33.9375 -1.421875 27.875 -1.421875 \nQ 17.96875 -1.421875 11.734375 6.484375 \nQ 5.515625 14.40625 5.515625 27.296875 \nQ 5.515625 40.1875 11.734375 48.09375 \nQ 17.96875 56 27.875 56 \nQ 33.9375 56 38.25 53.625 \nQ 42.578125 51.265625 45.40625 46.390625 \nz\nM 14.796875 27.296875 \nQ 14.796875 17.390625 18.875 11.75 \nQ 22.953125 6.109375 30.078125 6.109375 \nQ 37.203125 6.109375 41.296875 11.75 \nQ 45.40625 17.390625 45.40625 27.296875 \nQ 45.40625 37.203125 41.296875 42.84375 \nQ 37.203125 48.484375 30.078125 48.484375 \nQ 22.953125 48.484375 18.875 42.84375 \nQ 14.796875 37.203125 14.796875 27.296875 \nz\n\" id=\"DejaVuSans-100\"/>\n     <path d=\"M 4.890625 31.390625 \nL 31.203125 31.390625 \nL 31.203125 23.390625 \nL 4.890625 23.390625 \nz\n\" id=\"DejaVuSans-45\"/>\n    </defs>\n    <g transform=\"translate(180.829375 16.318125)scale(0.12 -0.12)\">\n     <use xlink:href=\"#DejaVuSans-116\"/>\n     <use x=\"39.208984\" xlink:href=\"#DejaVuSans-102\"/>\n     <use x=\"74.414062\" xlink:href=\"#DejaVuSans-105\"/>\n     <use x=\"102.197266\" xlink:href=\"#DejaVuSans-100\"/>\n     <use x=\"165.673828\" xlink:href=\"#DejaVuSans-102\"/>\n     <use x=\"200.800781\" xlink:href=\"#DejaVuSans-45\"/>\n     <use x=\"236.884766\" xlink:href=\"#DejaVuSans-105\"/>\n     <use x=\"264.667969\" xlink:href=\"#DejaVuSans-110\"/>\n     <use x=\"328.046875\" xlink:href=\"#DejaVuSans-101\"/>\n     <use x=\"389.570312\" xlink:href=\"#DejaVuSans-114\"/>\n     <use x=\"430.683594\" xlink:href=\"#DejaVuSans-116\"/>\n     <use x=\"469.892578\" xlink:href=\"#DejaVuSans-105\"/>\n     <use x=\"497.675781\" xlink:href=\"#DejaVuSans-97\"/>\n    </g>\n   </g>\n  </g>\n </g>\n <defs>\n  <clipPath id=\"p3b1eb2ddb5\">\n   <rect height=\"217.44\" width=\"334.8\" x=\"46.965625\" y=\"22.318125\"/>\n  </clipPath>\n </defs>\n</svg>\n",
      "image/png": "[encoded data removed]"
     },
     "metadata": {
      "needs_background": "light"
     }
    }
   ],
   "source": [
    "plt.plot(x, y, marker='o')\n",
    "plt.xlabel('Number of clusters')\n",
    "plt.ylabel('inertia')\n",
    "plt.title(\"tfidf-inertia\")\n",
    "plt.show()"
   ]
  },
  {
   "cell_type": "code",
   "execution_count": null,
   "metadata": {},
   "outputs": [],
   "source": []
  }
 ],
 "metadata": {
  "language_info": {
   "codemirror_mode": {
    "name": "ipython",
    "version": 3
   },
   "file_extension": ".py",
   "mimetype": "text/x-python",
   "name": "python",
   "nbconvert_exporter": "python",
   "pygments_lexer": "ipython3",
   "version": 3
  },
  "orig_nbformat": 2,
  "kernelspec": {
   "name": "python_defaultSpec_1594712924218",
   "display_name": "Python 3.7.7 64-bit"
  }
 },
 "nbformat": 4,
 "nbformat_minor": 2
}