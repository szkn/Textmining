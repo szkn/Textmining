{
 "cells": [
  {
   "cell_type": "markdown",
   "metadata": {},
   "source": [
    "# 情報システム実習論　テキスト分析課題2A\n",
    "### 必要なライブラリ、データセットのインポート"
   ]
  },
  {
   "cell_type": "code",
   "execution_count": 12,
   "metadata": {
    "tags": []
   },
   "outputs": [
    {
     "output_type": "stream",
     "name": "stdout",
     "text": "Requirement already satisfied: pandas in /Applications/anaconda3/envs/system_training/lib/python3.7/site-packages (1.0.5)\nRequirement already satisfied: numpy>=1.13.3 in /Applications/anaconda3/envs/system_training/lib/python3.7/site-packages (from pandas) (1.18.1)\nRequirement already satisfied: pytz>=2017.2 in /Applications/anaconda3/envs/system_training/lib/python3.7/site-packages (from pandas) (2020.1)\nRequirement already satisfied: python-dateutil>=2.6.1 in /Applications/anaconda3/envs/system_training/lib/python3.7/site-packages (from pandas) (2.8.1)\nRequirement already satisfied: six>=1.5 in /Applications/anaconda3/envs/system_training/lib/python3.7/site-packages (from python-dateutil>=2.6.1->pandas) (1.14.0)\nRequirement already satisfied: nltk in /Applications/anaconda3/envs/system_training/lib/python3.7/site-packages (3.5)\nRequirement already satisfied: joblib in /Applications/anaconda3/envs/system_training/lib/python3.7/site-packages (from nltk) (0.14.1)\nRequirement already satisfied: regex in /Applications/anaconda3/envs/system_training/lib/python3.7/site-packages (from nltk) (2020.6.8)\nRequirement already satisfied: click in /Applications/anaconda3/envs/system_training/lib/python3.7/site-packages (from nltk) (7.1.2)\nRequirement already satisfied: tqdm in /Applications/anaconda3/envs/system_training/lib/python3.7/site-packages (from nltk) (4.45.0)\nCollecting gensim\n  Using cached gensim-3.8.3-cp37-cp37m-macosx_10_9_x86_64.whl (24.2 MB)\nRequirement already satisfied: six>=1.5.0 in /Applications/anaconda3/envs/system_training/lib/python3.7/site-packages (from gensim) (1.14.0)\nRequirement already satisfied: numpy>=1.11.3 in /Applications/anaconda3/envs/system_training/lib/python3.7/site-packages (from gensim) (1.18.1)\nCollecting smart-open>=1.8.1\n  Downloading smart_open-2.1.0.tar.gz (116 kB)\n\u001b[K     |████████████████████████████████| 116 kB 2.2 MB/s \n\u001b[?25hRequirement already satisfied: scipy>=0.18.1 in /Applications/anaconda3/envs/system_training/lib/python3.7/site-packages (from gensim) (1.4.1)\nRequirement already satisfied: requests in /Applications/anaconda3/envs/system_training/lib/python3.7/site-packages (from smart-open>=1.8.1->gensim) (2.23.0)\nCollecting boto\n  Using cached boto-2.49.0-py2.py3-none-any.whl (1.4 MB)\nCollecting boto3\n  Downloading boto3-1.14.20-py2.py3-none-any.whl (128 kB)\n\u001b[K     |████████████████████████████████| 128 kB 3.7 MB/s \n\u001b[?25hRequirement already satisfied: urllib3!=1.25.0,!=1.25.1,<1.26,>=1.21.1 in /Applications/anaconda3/envs/system_training/lib/python3.7/site-packages (from requests->smart-open>=1.8.1->gensim) (1.25.8)\nRequirement already satisfied: certifi>=2017.4.17 in /Applications/anaconda3/envs/system_training/lib/python3.7/site-packages (from requests->smart-open>=1.8.1->gensim) (2020.4.5.1)\nRequirement already satisfied: chardet<4,>=3.0.2 in /Applications/anaconda3/envs/system_training/lib/python3.7/site-packages (from requests->smart-open>=1.8.1->gensim) (3.0.4)\nRequirement already satisfied: idna<3,>=2.5 in /Applications/anaconda3/envs/system_training/lib/python3.7/site-packages (from requests->smart-open>=1.8.1->gensim) (2.9)\nCollecting jmespath<1.0.0,>=0.7.1\n  Using cached jmespath-0.10.0-py2.py3-none-any.whl (24 kB)\nCollecting botocore<1.18.0,>=1.17.20\n  Downloading botocore-1.17.20-py2.py3-none-any.whl (6.3 MB)\n\u001b[K     |████████████████████████████████| 6.3 MB 1.8 MB/s \n\u001b[?25hCollecting s3transfer<0.4.0,>=0.3.0\n  Using cached s3transfer-0.3.3-py2.py3-none-any.whl (69 kB)\nRequirement already satisfied: python-dateutil<3.0.0,>=2.1 in /Applications/anaconda3/envs/system_training/lib/python3.7/site-packages (from botocore<1.18.0,>=1.17.20->boto3->smart-open>=1.8.1->gensim) (2.8.1)\nCollecting docutils<0.16,>=0.10\n  Using cached docutils-0.15.2-py3-none-any.whl (547 kB)\nBuilding wheels for collected packages: smart-open\n  Building wheel for smart-open (setup.py) ... \u001b[?25ldone\n\u001b[?25h  Created wheel for smart-open: filename=smart_open-2.1.0-py3-none-any.whl size=110317 sha256=0b20baa33777c0be20378d1be3fcfdad6c194dadc19e3ab8509171732adab6a3\n  Stored in directory: /Users/kento/Library/Caches/pip/wheels/56/b5/6d/86dbe4f29d4688e5163a8b8c6b740494310040286fca4dc648\nSuccessfully built smart-open\nInstalling collected packages: boto, jmespath, docutils, botocore, s3transfer, boto3, smart-open, gensim\nSuccessfully installed boto-2.49.0 boto3-1.14.20 botocore-1.17.20 docutils-0.15.2 gensim-3.8.3 jmespath-0.10.0 s3transfer-0.3.3 smart-open-2.1.0\n"
    }
   ],
   "source": [
    "!pip install pandas\n",
    "!pip install nltk\n",
    "!pip install gensim"
   ]
  },
  {
   "cell_type": "code",
   "execution_count": 13,
   "metadata": {},
   "outputs": [],
   "source": [
    "from sklearn.feature_extraction.text import TfidfVectorizer\n",
    "from sklearn.cluster import KMeans\n",
    "import numpy as np\n",
    "import matplotlib.pyplot as plt\n",
    "import pandas as pd\n",
    "import nltk\n",
    "import collections\n",
    "from gensim import models\n",
    "from gensim.models.doc2vec import Doc2Vec\n",
    "from gensim.models.doc2vec import TaggedDocument"
   ]
  },
  {
   "cell_type": "markdown",
   "metadata": {},
   "source": [
    "### nltkが使えるようにしておく"
   ]
  },
  {
   "cell_type": "code",
   "execution_count": 14,
   "metadata": {
    "tags": []
   },
   "outputs": [
    {
     "output_type": "stream",
     "name": "stderr",
     "text": "[nltk_data] Downloading package stopwords to /Users/kento/nltk_data...\n[nltk_data]   Package stopwords is already up-to-date!\n[nltk_data] Downloading package wordnet to /Users/kento/nltk_data...\n[nltk_data]   Package wordnet is already up-to-date!\n[nltk_data] Downloading package reuters to /Users/kento/nltk_data...\n[nltk_data]   Package reuters is already up-to-date!\n[nltk_data] Downloading package punkt to /Users/kento/nltk_data...\n[nltk_data]   Package punkt is already up-to-date!\n"
    },
    {
     "output_type": "execute_result",
     "data": {
      "text/plain": "True"
     },
     "metadata": {},
     "execution_count": 14
    }
   ],
   "source": [
    "nltk.download(\"stopwords\")\n",
    "nltk.download(\"wordnet\"z)\n",
    "nltk.download(\"reuters\")\n",
    "nltk.download(\"punkt\")"
   ]
  },
  {
   "cell_type": "markdown",
   "metadata": {},
   "source": [
    "### データを取得"
   ]
  },
  {
   "cell_type": "code",
   "execution_count": 10,
   "metadata": {},
   "outputs": [],
   "source": [
    "from nltk.corpus import reuters as corpuszzzzzzz"
   ]
  },
  {
   "cell_type": "markdown",
   "metadata": {},
   "source": [
    "### データセットの中身確認"
   ]
  },
  {
   "cell_type": "code",
   "execution_count": 19,
   "metadata": {
    "tags": []
   },
   "outputs": [
    {
     "output_type": "stream",
     "name": "stdout",
     "text": "<generator object <genexpr> at 0x7fbf65cd2dd0>\n"
    }
   ],
   "source": [
    "print(corpus.words(fileids) for field in corpus.fileids()[1])"
   ]
  },
  {
   "cell_type": "markdown",
   "metadata": {},
   "source": [
    "### 全document数"
   ]
  },
  {
   "cell_type": "code",
   "execution_count": 16,
   "metadata": {},
   "outputs": [
    {
     "output_type": "execute_result",
     "data": {
      "text/plain": "10788"
     },
     "metadata": {},
     "execution_count": 16
    }
   ],
   "source": [
    "len(corpus.fileids())"
   ]
  },
  {
   "cell_type": "markdown",
   "metadata": {},
   "source": [
    "###  前から1000文とってきて解析を行う"
   ]
  },
  {
   "cell_type": "code",
   "execution_count": 28,
   "metadata": {
    "tags": []
   },
   "outputs": [
    {
     "output_type": "stream",
     "name": "stdout",
     "text": "['CHINA', 'DAILY', 'SAYS', 'VERMIN', 'EAT', '7', '-', ...]\n['JAPAN', 'TO', 'REVISE', 'LONG', '-', 'TERM', ...]\n['test/14826', 'test/14828', 'test/14829', 'test/14832', 'test/14833', 'test/14839', 'test/14840', 'test/14841', 'test/14842', 'test/14843', 'test/14844', 'test/14849', 'test/14852', 'test/14854', 'test/14858', 'test/14859', 'test/14860', 'test/14861', 'test/14862', 'test/14863', 'test/14865', 'test/14867', 'test/14872', 'test/14873', 'test/14875', 'test/14876', 'test/14877', 'test/14881', 'test/14882', 'test/14885', 'test/14886', 'test/14888', 'test/14890', 'test/14891', 'test/14892', 'test/14899', 'test/14900', 'test/14903', 'test/14904', 'test/14907', 'test/14909', 'test/14911', 'test/14912', 'test/14913', 'test/14918', 'test/14919', 'test/14921', 'test/14922', 'test/14923', 'test/14926', 'test/14928', 'test/14930', 'test/14931', 'test/14932', 'test/14933', 'test/14934', 'test/14941', 'test/14943', 'test/14949', 'test/14951', 'test/14954', 'test/14957', 'test/14958', 'test/14959', 'test/14960', 'test/14962', 'test/14963', 'test/14964', 'test/14965', 'test/14967', 'test/14968', 'test/14969', 'test/14970', 'test/14971', 'test/14974', 'test/14975', 'test/14978', 'test/14981', 'test/14982', 'test/14983', 'test/14984', 'test/14985', 'test/14986', 'test/14987', 'test/14988', 'test/14993', 'test/14995', 'test/14998', 'test/15000', 'test/15001', 'test/15002', 'test/15004', 'test/15005', 'test/15006', 'test/15011', 'test/15012', 'test/15013', 'test/15016', 'test/15017', 'test/15020', 'test/15023', 'test/15024', 'test/15026', 'test/15027', 'test/15028', 'test/15029', 'test/15031', 'test/15032', 'test/15033', 'test/15037', 'test/15038', 'test/15043', 'test/15045', 'test/15046', 'test/15048', 'test/15049', 'test/15052', 'test/15053', 'test/15055', 'test/15056', 'test/15060', 'test/15061', 'test/15062', 'test/15063', 'test/15065', 'test/15067', 'test/15069', 'test/15070', 'test/15074', 'test/15077', 'test/15078', 'test/15079', 'test/15082', 'test/15090', 'test/15091', 'test/15092', 'test/15093', 'test/15094', 'test/15095', 'test/15096', 'test/15097', 'test/15103', 'test/15104', 'test/15106', 'test/15107', 'test/15109', 'test/15110', 'test/15111', 'test/15112', 'test/15118', 'test/15119', 'test/15120', 'test/15121', 'test/15122', 'test/15124', 'test/15126', 'test/15128', 'test/15129', 'test/15130', 'test/15132', 'test/15136', 'test/15138', 'test/15141', 'test/15144', 'test/15145', 'test/15146', 'test/15149', 'test/15152', 'test/15153', 'test/15154', 'test/15156', 'test/15157', 'test/15161', 'test/15162', 'test/15171', 'test/15172', 'test/15175', 'test/15179', 'test/15180', 'test/15185', 'test/15188', 'test/15189', 'test/15190', 'test/15193', 'test/15194', 'test/15197', 'test/15198', 'test/15200', 'test/15204', 'test/15205', 'test/15206', 'test/15207', 'test/15208', 'test/15210', 'test/15211', 'test/15212', 'test/15213', 'test/15217', 'test/15219', 'test/15220', 'test/15221', 'test/15222', 'test/15223', 'test/15226', 'test/15227', 'test/15230', 'test/15233', 'test/15234', 'test/15237', 'test/15238', 'test/15239', 'test/15240', 'test/15242', 'test/15243', 'test/15244', 'test/15246', 'test/15247', 'test/15250', 'test/15253', 'test/15254', 'test/15255', 'test/15258', 'test/15259', 'test/15262', 'test/15263', 'test/15264', 'test/15265', 'test/15270', 'test/15271', 'test/15273', 'test/15274', 'test/15276', 'test/15278', 'test/15280', 'test/15281', 'test/15283', 'test/15287', 'test/15290', 'test/15292', 'test/15294', 'test/15295', 'test/15296', 'test/15299', 'test/15300', 'test/15302', 'test/15303', 'test/15306', 'test/15307', 'test/15308', 'test/15309', 'test/15310', 'test/15311', 'test/15312', 'test/15313', 'test/15314', 'test/15315', 'test/15321', 'test/15322', 'test/15324', 'test/15325', 'test/15326', 'test/15327', 'test/15329', 'test/15335', 'test/15336', 'test/15337', 'test/15339', 'test/15341', 'test/15344', 'test/15345', 'test/15348', 'test/15349', 'test/15351', 'test/15352', 'test/15354', 'test/15356', 'test/15357', 'test/15359', 'test/15363', 'test/15364', 'test/15365', 'test/15366', 'test/15367', 'test/15368', 'test/15372', 'test/15375', 'test/15378', 'test/15379', 'test/15380', 'test/15383', 'test/15384', 'test/15386', 'test/15387', 'test/15388', 'test/15389', 'test/15391', 'test/15394', 'test/15396', 'test/15397', 'test/15400', 'test/15404', 'test/15406', 'test/15409', 'test/15410', 'test/15411', 'test/15413', 'test/15415', 'test/15416', 'test/15417', 'test/15420', 'test/15421', 'test/15424', 'test/15425', 'test/15427', 'test/15428', 'test/15429', 'test/15430', 'test/15431', 'test/15432', 'test/15436', 'test/15438', 'test/15441', 'test/15442', 'test/15444', 'test/15446', 'test/15447', 'test/15448', 'test/15449', 'test/15450', 'test/15451', 'test/15452', 'test/15453', 'test/15454', 'test/15455', 'test/15457', 'test/15459', 'test/15460', 'test/15462', 'test/15464', 'test/15467', 'test/15468', 'test/15471', 'test/15472', 'test/15476', 'test/15477', 'test/15478', 'test/15479', 'test/15481', 'test/15482', 'test/15483', 'test/15484', 'test/15485', 'test/15487', 'test/15489', 'test/15494', 'test/15495', 'test/15496', 'test/15500', 'test/15501', 'test/15503', 'test/15504', 'test/15510', 'test/15511', 'test/15515', 'test/15520', 'test/15521', 'test/15522', 'test/15523', 'test/15527', 'test/15528', 'test/15531', 'test/15532', 'test/15535', 'test/15536', 'test/15539', 'test/15540', 'test/15542', 'test/15543', 'test/15544', 'test/15545', 'test/15547', 'test/15548', 'test/15549', 'test/15550', 'test/15551', 'test/15552', 'test/15553', 'test/15556', 'test/15558', 'test/15559', 'test/15560', 'test/15561', 'test/15562', 'test/15563', 'test/15565', 'test/15566', 'test/15567', 'test/15568', 'test/15569', 'test/15570', 'test/15571', 'test/15572', 'test/15573', 'test/15574', 'test/15575', 'test/15578', 'test/15579', 'test/15580', 'test/15581', 'test/15582', 'test/15583', 'test/15584', 'test/15585', 'test/15590', 'test/15591', 'test/15593', 'test/15594', 'test/15595', 'test/15596', 'test/15597', 'test/15598', 'test/15600', 'test/15601', 'test/15602', 'test/15603', 'test/15605', 'test/15607', 'test/15610', 'test/15613', 'test/15615', 'test/15616', 'test/15617', 'test/15618', 'test/15620', 'test/15621', 'test/15623', 'test/15624', 'test/15625', 'test/15626', 'test/15629', 'test/15632', 'test/15634', 'test/15636', 'test/15637', 'test/15639', 'test/15640', 'test/15641', 'test/15642', 'test/15643', 'test/15646', 'test/15648', 'test/15649', 'test/15651', 'test/15653', 'test/15655', 'test/15656', 'test/15664', 'test/15666', 'test/15667', 'test/15668', 'test/15669', 'test/15672', 'test/15674', 'test/15675', 'test/15676', 'test/15677', 'test/15679', 'test/15680', 'test/15682', 'test/15686', 'test/15688', 'test/15689', 'test/15691', 'test/15692', 'test/15694', 'test/15695', 'test/15696', 'test/15698', 'test/15702', 'test/15703', 'test/15704', 'test/15707', 'test/15708', 'test/15709', 'test/15710', 'test/15713', 'test/15715', 'test/15717', 'test/15719', 'test/15720', 'test/15721', 'test/15723', 'test/15725', 'test/15726', 'test/15727', 'test/15728', 'test/15729', 'test/15732', 'test/15733', 'test/15736', 'test/15737', 'test/15739', 'test/15742', 'test/15749', 'test/15751', 'test/15753', 'test/15757', 'test/15759', 'test/15762', 'test/15767', 'test/15768', 'test/15769', 'test/15772', 'test/15777', 'test/15778', 'test/15780', 'test/15782', 'test/15785', 'test/15790', 'test/15793', 'test/15797', 'test/15798', 'test/15800', 'test/15801', 'test/15803', 'test/15804', 'test/15805', 'test/15807', 'test/15808', 'test/15810', 'test/15811', 'test/15816', 'test/15817', 'test/15819', 'test/15821', 'test/15822', 'test/15823', 'test/15829', 'test/15831', 'test/15832', 'test/15833', 'test/15834', 'test/15836', 'test/15838', 'test/15840', 'test/15841', 'test/15842', 'test/15844', 'test/15845', 'test/15846', 'test/15847', 'test/15851', 'test/15852', 'test/15853', 'test/15854', 'test/15855', 'test/15856', 'test/15858', 'test/15859', 'test/15860', 'test/15861', 'test/15863', 'test/15864', 'test/15865', 'test/15866', 'test/15867', 'test/15868', 'test/15869', 'test/15870', 'test/15871', 'test/15872', 'test/15874', 'test/15875', 'test/15876', 'test/15877', 'test/15878', 'test/15879', 'test/15881', 'test/15885', 'test/15886', 'test/15888', 'test/15889', 'test/15890', 'test/15892', 'test/15893', 'test/15894', 'test/15895', 'test/15896', 'test/15897', 'test/15898', 'test/15899', 'test/15900', 'test/15901', 'test/15902', 'test/15903', 'test/15904', 'test/15906', 'test/15908', 'test/15909', 'test/15910', 'test/15911', 'test/15912', 'test/15913', 'test/15914', 'test/15916', 'test/15917', 'test/15918', 'test/15920', 'test/15921', 'test/15922', 'test/15923', 'test/15924', 'test/15925', 'test/15927', 'test/15928', 'test/15929', 'test/15930', 'test/15932', 'test/15933', 'test/15934', 'test/15937', 'test/15939', 'test/15942', 'test/15944', 'test/15949', 'test/15950', 'test/15951', 'test/15952', 'test/15953', 'test/15956', 'test/15959', 'test/15960', 'test/15961', 'test/15963', 'test/15964', 'test/15967', 'test/15968', 'test/15969', 'test/15970', 'test/15973', 'test/15975', 'test/15976', 'test/15977', 'test/15978', 'test/15979', 'test/15980', 'test/15981', 'test/15984', 'test/15985', 'test/15987', 'test/15988', 'test/15989', 'test/15993', 'test/15995', 'test/15996', 'test/15997', 'test/15999', 'test/16002', 'test/16003', 'test/16004', 'test/16005', 'test/16006', 'test/16007', 'test/16009', 'test/16012', 'test/16013', 'test/16014', 'test/16015', 'test/16016', 'test/16021', 'test/16022', 'test/16023', 'test/16026', 'test/16029', 'test/16030', 'test/16033', 'test/16037', 'test/16040', 'test/16041', 'test/16045', 'test/16052', 'test/16053', 'test/16055', 'test/16063', 'test/16066', 'test/16067', 'test/16068', 'test/16069', 'test/16071', 'test/16072', 'test/16074', 'test/16075', 'test/16076', 'test/16077', 'test/16079', 'test/16080', 'test/16083', 'test/16086', 'test/16088', 'test/16091', 'test/16093', 'test/16094', 'test/16095', 'test/16096', 'test/16097', 'test/16098', 'test/16099', 'test/16100', 'test/16103', 'test/16106', 'test/16107', 'test/16108', 'test/16110', 'test/16111', 'test/16112', 'test/16115', 'test/16117', 'test/16118', 'test/16119', 'test/16120', 'test/16122', 'test/16123', 'test/16125', 'test/16126', 'test/16130', 'test/16133', 'test/16134', 'test/16136', 'test/16139', 'test/16140', 'test/16141', 'test/16142', 'test/16143', 'test/16144', 'test/16145', 'test/16146', 'test/16147', 'test/16148', 'test/16149', 'test/16150', 'test/16152', 'test/16155', 'test/16158', 'test/16159', 'test/16161', 'test/16162', 'test/16163', 'test/16164', 'test/16166', 'test/16170', 'test/16171', 'test/16172', 'test/16173', 'test/16175', 'test/16176', 'test/16177', 'test/16179', 'test/16180', 'test/16185', 'test/16188', 'test/16189', 'test/16190', 'test/16193', 'test/16194', 'test/16195', 'test/16196', 'test/16197', 'test/16200', 'test/16201', 'test/16202', 'test/16203', 'test/16206', 'test/16207', 'test/16210', 'test/16211', 'test/16212', 'test/16213', 'test/16214', 'test/16215', 'test/16216', 'test/16219', 'test/16221', 'test/16223', 'test/16225', 'test/16226', 'test/16228', 'test/16230', 'test/16232', 'test/16233', 'test/16234', 'test/16236', 'test/16238', 'test/16241', 'test/16243', 'test/16244', 'test/16246', 'test/16247', 'test/16248', 'test/16250', 'test/16251', 'test/16252', 'test/16255', 'test/16256', 'test/16257', 'test/16258', 'test/16260', 'test/16262', 'test/16263', 'test/16264', 'test/16265', 'test/16266', 'test/16268', 'test/16269', 'test/16270', 'test/16271', 'test/16274', 'test/16275', 'test/16277', 'test/16278', 'test/16279', 'test/16281', 'test/16282', 'test/16283', 'test/16284', 'test/16285', 'test/16286', 'test/16287', 'test/16288', 'test/16289', 'test/16291', 'test/16294', 'test/16297', 'test/16298', 'test/16299', 'test/16300', 'test/16301', 'test/16302', 'test/16303', 'test/16304', 'test/16307', 'test/16310', 'test/16311', 'test/16312', 'test/16314', 'test/16315', 'test/16316', 'test/16317', 'test/16318', 'test/16319', 'test/16320', 'test/16324', 'test/16327', 'test/16331', 'test/16332', 'test/16336', 'test/16337', 'test/16339', 'test/16342', 'test/16343', 'test/16346', 'test/16347', 'test/16348', 'test/16350', 'test/16354', 'test/16357', 'test/16359', 'test/16360', 'test/16362', 'test/16363', 'test/16365', 'test/16366', 'test/16367', 'test/16369', 'test/16370', 'test/16371', 'test/16372', 'test/16374', 'test/16376', 'test/16377', 'test/16379', 'test/16380', 'test/16383', 'test/16385', 'test/16386', 'test/16388', 'test/16390', 'test/16392', 'test/16393', 'test/16394', 'test/16395', 'test/16396', 'test/16398', 'test/16399', 'test/16400', 'test/16401', 'test/16402', 'test/16403', 'test/16404', 'test/16405', 'test/16406', 'test/16407', 'test/16409', 'test/16410', 'test/16415', 'test/16417', 'test/16418', 'test/16419', 'test/16420', 'test/16421', 'test/16422', 'test/16424', 'test/16426', 'test/16427', 'test/16428', 'test/16429', 'test/16430', 'test/16432', 'test/16433', 'test/16434', 'test/16437', 'test/16438', 'test/16440', 'test/16441', 'test/16442', 'test/16443', 'test/16444', 'test/16448', 'test/16449', 'test/16450', 'test/16454', 'test/16457', 'test/16458', 'test/16459', 'test/16460', 'test/16461', 'test/16463', 'test/16465', 'test/16468', 'test/16469', 'test/16470', 'test/16471', 'test/16472', 'test/16473', 'test/16475', 'test/16476', 'test/16478', 'test/16479', 'test/16480', 'test/16481', 'test/16483', 'test/16486', 'test/16487', 'test/16488', 'test/16490', 'test/16492', 'test/16493', 'test/16495', 'test/16496', 'test/16499', 'test/16502', 'test/16505', 'test/16510', 'test/16512', 'test/16513', 'test/16518', 'test/16519', 'test/16521', 'test/16522', 'test/16523', 'test/16525', 'test/16527', 'test/16530', 'test/16531', 'test/16533', 'test/16538', 'test/16539', 'test/16545', 'test/16546', 'test/16549', 'test/16551', 'test/16554', 'test/16555', 'test/16561', 'test/16563', 'test/16564', 'test/16565', 'test/16568', 'test/16569', 'test/16570', 'test/16574', 'test/16577', 'test/16581', 'test/16583', 'test/16584', 'test/16585', 'test/16587', 'test/16588', 'test/16589', 'test/16590', 'test/16591']\n"
    }
   ],
   "source": [
    "k=1000\n",
    "docs = [corpus.words(fileid) for fileid in corpus.fileids()[:k]]\n",
    "print(docs[1])\n",
    "print(docs[2])\n",
    "tags = corpus.fileids()[:k]\n",
    "print(tags)"
   ]
  },
  {
   "cell_type": "markdown",
   "metadata": {},
   "source": [
    "## 前処理を行う\n",
    "### nltkストップワードの作成(数字や記号も消す)"
   ]
  },
  {
   "cell_type": "code",
   "execution_count": 30,
   "metadata": {},
   "outputs": [],
   "source": [
    "en_stop = nltk.corpus.stopwords.words('english')\n",
    "en_stop= [\"``\",\"/\",\",.\",\".,\",\";\",\"--\",\":\",\")\",\"(\",'\"','&',\"'\",'),',',\"','-','.,','.,\"','.-',\"?\",\">\",\"<\"]                  \\\n",
    "         +[\"0\",\"1\",\"2\",\"3\",\"4\",\"5\",\"6\",\"7\",\"8\",\"9\",\"10\",\"11\",\"12\",\"86\",\"1986\",\"1987\",\"000\"]                                                      \\\n",
    "         +[\"said\",\"say\",\"u\",\"v\",\"mln\",\"ct\",\"net\",\"dlrs\",\"tonne\",\"pct\",\"shr\",\"nil\",\"company\",\"lt\",\"share\",\"year\",\"billion\",\"price\"]          \\\n",
    "         +en_stop"
   ]
  },
  {
   "cell_type": "markdown",
   "metadata": {},
   "source": [
    "### 前処理関数の作成"
   ]
  },
  {
   "cell_type": "code",
   "execution_count": 31,
   "metadata": {},
   "outputs": [],
   "source": [
    "from nltk.corpus import wordnet as wn #lemmatize関数のためのimport\n",
    "\n",
    "def preprocess_word(word, stopwordset):\n",
    "    \n",
    "    #1.make words lower ex: Python =>python\n",
    "    word=word.lower()\n",
    "    \n",
    "    #2.remove \",\" and \".\"\n",
    "    if word in [\",\",\".\"]:\n",
    "        return None\n",
    "    \n",
    "    #3.remove stopword  ex: the => (None) \n",
    "    if word in stopwordset:\n",
    "        return None\n",
    "    \n",
    "    #4.lemmatize  ex: cooked=>cook\n",
    "    lemma = wn.morphy(word)\n",
    "    if lemma is None:\n",
    "        return word\n",
    "\n",
    "    elif lemma in stopwordset: #lemmatizeしたものがstopwordである可能性がある\n",
    "        return None\n",
    "    else:\n",
    "        return lemma\n",
    "    \n",
    "\n",
    "def preprocess_document(document):\n",
    "    document=[preprocess_word(w, en_stop) for w in document]\n",
    "    document=[w for w in document if w is not None]\n",
    "    return document\n",
    "\n",
    "def preprocess_documents(documents):\n",
    "    return [preprocess_document(document) for document in documents]"
   ]
  },
  {
   "cell_type": "markdown",
   "metadata": {},
   "source": [
    "### 前処理の結果を出力\n",
    "### 前処理前"
   ]
  },
  {
   "cell_type": "code",
   "execution_count": 36,
   "metadata": {
    "tags": []
   },
   "outputs": [
    {
     "output_type": "stream",
     "name": "stdout",
     "text": "['ASIAN', 'EXPORTERS', 'FEAR', 'DAMAGE', 'FROM', 'U', '.', 'S', '.-', 'JAPAN', 'RIFT', 'Mounting', 'trade', 'friction', 'between', 'the', 'U', '.', 'S', '.', 'And', 'Japan', 'has', 'raised', 'fears']\n"
    }
   ],
   "source": [
    "print(docs[0][:25])"
   ]
  },
  {
   "cell_type": "markdown",
   "metadata": {},
   "source": [
    "### 前処理後"
   ]
  },
  {
   "cell_type": "code",
   "execution_count": 35,
   "metadata": {
    "tags": []
   },
   "outputs": [
    {
     "output_type": "stream",
     "name": "stdout",
     "text": "['asian', 'exporter', 'fear', 'damage', 'japan', 'rift', 'mounting', 'trade', 'friction', 'japan', 'raise', 'fear', 'among', 'many', 'asia', 'exporting', 'nation', 'row', 'could', 'inflict', 'far', 'reaching', 'economic', 'damage', 'businessmen']\n"
    }
   ],
   "source": [
    "print(preprocess_documents(docs)[0][:25])"
   ]
  },
  {
   "cell_type": "markdown",
   "metadata": {},
   "source": [
    " ## クラスタリングパート\n",
    " ### tf-idfで前処理を施した文章をベクトル化\n",
    " ### vectorizerを使用する。(ハイパーパラメータを設定する)"
   ]
  },
  {
   "cell_type": "code",
   "execution_count": 39,
   "metadata": {
    "tags": []
   },
   "outputs": [
    {
     "output_type": "stream",
     "name": "stdout",
     "text": "asianexporterfeardamagejapanriftmountingtradefrictionjapanraisefearamongmanyasiaexportingnationrowcouldinflictfarreachingeconomicdamagebusinessmenofficialtellreutercorrespondentasiancapitalmovejapanmightboostprotectionistsentimentleadcurbamericanimportproductexporterconflictwouldhurtlongrunshorttermtokyolossmightgainimpose300tariffimportjapaneseelectronicsgoodapril17retaliationjapanallegefailurestickpactsellsemiconductorworldmarketcostunofficialjapaneseestimateputimpacttariffspokesmanmajorelectronicsfirmwouldvirtuallyhaltexportproducthitnewtaxablebusinessspokesmanleadingjapaneseelectronicsfirmmatsushitaelectricindustrialcoltdmc>.tariffremainplacelengthtimebeyondmonthmeancompleteerosionexportgoodsubjecttarifftommurthastockanalysttokyoofficebrokerjamescapelco>.taiwanbusinessmenofficialalsoworryawareseriousnessthreatjapanservewarningusseniortaiwanesetradeofficialasknametaiwantradetradesurplus15last95surplushelpswelltaiwanforeignexchangereserves53amongworldlargemustquicklyopenmarketremovetradebarriercutimporttariffallowimportproductwantdefuseproblempossibleretaliationpaulsheenchairmantextileexportertaiwansafegroup>.seniorofficialsouthkoreatradepromotionassociationtradedisputejapanmightalsoleadpressuresouthkoreawhosechiefexportsimilarjapanlastsouthkoreatradesurplus1985malaysiatradeofficerbusinessmentoughcurbjapanmightallowhardhitproducersemiconductorthirdcountryexpandsaleshongkongnewspaperallegejapansellingcostsemiconductorelectronicsmanufacturerviewbusinessmenshorttermcommercialadvantagewouldoutweighpressureblockimportshorttermviewlawrencemillsdirectorgeneralfederationhongkongindustrywholepurposepreventimportonedayextendsourcemuchserioushongkongdisadvantageactionrestraintradelasthongkongbigexportmarketaccounting30domesticallyproduceexportaustraliangovernmentawaitoutcometradetalksjapaninterestconcernindustryministerjohnbuttoncanberralastfridaykinddeteriorationtraderelationstwocountrymajortradingpartnerseriousmatterbuttonaustraliaconcerncentrecoalbeefaustraliatwolargeexportjapanalsosignificantexportcountrymeanwhilejapanesediplomaticmanoeuvresolvetradestandcontinuejapanrulingliberaldemocraticpartyyesterdayoutlinepackageeconomicmeasureboostjapaneseeconomymeasureproposeincludelargesupplementarybudgetrecordpublicworksspendingfirsthalffinancialalsocallstepspendingemergencymeasurestimulateeconomydespiteprimeministeryasuhironakasoneavowfiscalreformprogramdeputytraderepresentativemichaelsmithmakotokurodajapandeputyministerinternationaltradeindustrymitiduemeetwashingtonweekeffortenddispute\n"
    }
   ],
   "source": [
    "pre_docs=preprocess_documents(docs)\n",
    "pre_docs=[\"\".join(doc) for doc in pre_docs]\n",
    "print(pre_docs[0])\n",
    "\n",
    "vectorizer = TfidfVectorizer(max_features=200, token_pattern=u'(?u)\\\\b\\\\w+\\\\b' )"
   ]
  },
  {
   "cell_type": "markdown",
   "metadata": {},
   "source": [
    "### fitさせる"
   ]
  },
  {
   "cell_type": "code",
   "execution_count": 41,
   "metadata": {},
   "outputs": [],
   "source": [
    "tf_idf = vectorizer.fit_transform(pre_docs)"
   ]
  },
  {
   "cell_type": "code",
   "execution_count": null,
   "metadata": {},
   "outputs": [],
   "source": []
  }
 ],
 "metadata": {
  "language_info": {
   "codemirror_mode": {
    "name": "ipython",
    "version": 3
   },
   "file_extension": ".py",
   "mimetype": "text/x-python",
   "name": "python",
   "nbconvert_exporter": "python",
   "pygments_lexer": "ipython3",
   "version": 3
  },
  "orig_nbformat": 2,
  "kernelspec": {
   "name": "python_defaultSpec_1594709537907",
   "display_name": "Python 3.7.7 64-bit"
  }
 },
 "nbformat": 4,
 "nbformat_minor": 2
}