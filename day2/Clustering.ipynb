{
  "cells": [
    {
      "cell_type": "markdown",
      "metadata": {
        "id": "sESw_dKQL5mA",
        "colab_type": "text"
      },
      "source": [
        "# システム論実習　課題2A"
      ]
    },
    {
      "cell_type": "markdown",
      "metadata": {
        "id": "oFmxTSs2MV2y",
        "colab_type": "text"
      },
      "source": [
        "### 必要なライブラリ・データセットのインポート"
      ]
    },
    {
      "cell_type": "code",
      "metadata": {
        "id": "v9v_nPKQMTZd",
        "colab_type": "code",
        "colab": {}
      },
      "source": [
        "from sklearn.feature_extraction.text import TfidfVectorizer\n",
        "from sklearn.cluster import KMeans\n",
        "import numpy as np\n",
        "import matplotlib.pyplot as plt\n",
        "import pandas as pd\n",
        "import nltk\n",
        "import collections\n",
        "from gensim import models\n",
        "from gensim.models.doc2vec import Doc2Vec\n",
        "from gensim.models.doc2vec import TaggedDocument"
      ],
      "execution_count": 15,
      "outputs": []
    },
    {
      "cell_type": "markdown",
      "metadata": {
        "id": "y2UGMZJaMgvM",
        "colab_type": "text"
      },
      "source": [
        "### 今回は以下のnltkの機能を使用できる様にする\n"
      ]
    },
    {
      "cell_type": "code",
      "metadata": {
        "id": "MaRmXeotMjKv",
        "colab_type": "code",
        "outputId": "0dcb67a8-f4bd-4348-ddb8-7422893d7493",
        "colab": {
          "base_uri": "https://localhost:8080/",
          "height": 153
        },
        "tags": []
      },
      "source": [
        "nltk.download(\"stopwords\")\n",
        "nltk.download(\"wordnet\")\n",
        "nltk.download(\"reuters\")\n",
        "nltk.download(\"punkt\")"
      ],
      "execution_count": 16,
      "outputs": [
        {
          "output_type": "stream",
          "name": "stderr",
          "text": "[nltk_data] Downloading package stopwords to /Users/kento/nltk_data...\n[nltk_data]   Package stopwords is already up-to-date!\n[nltk_data] Downloading package wordnet to /Users/kento/nltk_data...\n[nltk_data]   Package wordnet is already up-to-date!\n[nltk_data] Downloading package reuters to /Users/kento/nltk_data...\n[nltk_data]   Package reuters is already up-to-date!\n[nltk_data] Downloading package punkt to /Users/kento/nltk_data...\n[nltk_data]   Package punkt is already up-to-date!\n"
        },
        {
          "output_type": "execute_result",
          "data": {
            "text/plain": "True"
          },
          "metadata": {},
          "execution_count": 16
        }
      ]
    },
    {
      "cell_type": "markdown",
      "metadata": {
        "id": "7VtrTuH4MrHN",
        "colab_type": "text"
      },
      "source": [
        "### データを取得"
      ]
    },
    {
      "cell_type": "code",
      "metadata": {
        "id": "zXcN4x3bMljo",
        "colab_type": "code",
        "colab": {}
      },
      "source": [
        "from nltk.corpus import reuters as corpus"
      ],
      "execution_count": 17,
      "outputs": []
    },
    {
      "cell_type": "markdown",
      "metadata": {
        "id": "A6PFfk-BMxEs",
        "colab_type": "text"
      },
      "source": [
        "### datasetの中身を確認"
      ]
    },
    {
      "cell_type": "code",
      "metadata": {
        "id": "HXvSxPG0MuXr",
        "colab_type": "code",
        "outputId": "8c3c1474-5c41-44b4-a1fe-fca23b46372d",
        "colab": {
          "base_uri": "https://localhost:8080/",
          "height": 221
        },
        "tags": []
      },
      "source": [
        "for n,item in enumerate(corpus.words(corpus.fileids()[0])[:300]):\n",
        "    print(item, end=\" \")\n",
        "    if (n%25) ==24:\n",
        "      print(\" \")"
      ],
      "execution_count": 18,
      "outputs": [
        {
          "output_type": "stream",
          "name": "stdout",
          "text": "ASIAN EXPORTERS FEAR DAMAGE FROM U . S .- JAPAN RIFT Mounting trade friction between the U . S . And Japan has raised fears  \namong many of Asia ' s exporting nations that the row could inflict far - reaching economic damage , businessmen and officials said . They  \ntold Reuter correspondents in Asian capitals a U . S . Move against Japan might boost protectionist sentiment in the U . S . And  \nlead to curbs on American imports of their products . But some exporters said that while the conflict would hurt them in the long -  \nrun , in the short - term Tokyo ' s loss might be their gain . The U . S . Has said it will  \nimpose 300 mln dlrs of tariffs on imports of Japanese electronics goods on April 17 , in retaliation for Japan ' s alleged failure to  \nstick to a pact not to sell semiconductors on world markets at below cost . Unofficial Japanese estimates put the impact of the tariffs at  \n10 billion dlrs and spokesmen for major electronics firms said they would virtually halt exports of products hit by the new taxes . \" We  \nwouldn ' t be able to do business ,\" said a spokesman for leading Japanese electronics firm Matsushita Electric Industrial Co Ltd & lt ;  \nMC . T >. \" If the tariffs remain in place for any length of time beyond a few months it will mean the complete  \nerosion of exports ( of goods subject to tariffs ) to the U . S .,\" said Tom Murtha , a stock analyst at the  \nTokyo office of broker & lt ; James Capel and Co >. In Taiwan , businessmen and officials are also worried . \" We are  \n"
        }
      ]
    },
    {
      "cell_type": "markdown",
      "metadata": {
        "id": "2lysFJt4M1Ux",
        "colab_type": "text"
      },
      "source": [
        "### 全document数"
      ]
    },
    {
      "cell_type": "code",
      "metadata": {
        "id": "_Yz5UaciM0UG",
        "colab_type": "code",
        "outputId": "81a37b00-b0f2-45c9-d902-307a4a732600",
        "colab": {
          "base_uri": "https://localhost:8080/",
          "height": 34
        }
      },
      "source": [
        "len(corpus.fileids())"
      ],
      "execution_count": 19,
      "outputs": [
        {
          "output_type": "execute_result",
          "data": {
            "text/plain": "10788"
          },
          "metadata": {},
          "execution_count": 19
        }
      ]
    },
    {
      "cell_type": "markdown",
      "metadata": {},
      "source": [
        "###  今回は1000文で行う"
      ]
    },
    {
      "cell_type": "code",
      "metadata": {
        "id": "JOSFXIzlM5wI",
        "colab_type": "code",
        "colab": {}
      },
      "source": [
        "k = 1000\n",
        "docs=[corpus.words(fileid) for fileid in corpus.fileids()[:k]]"
      ],
      "execution_count": 20,
      "outputs": []
    },
    {
      "cell_type": "code",
      "metadata": {
        "id": "uyNbkvs9NAav",
        "colab_type": "code",
        "outputId": "04694f9a-ddf9-4431-90ff-ef51261c9dea",
        "colab": {
          "base_uri": "https://localhost:8080/",
          "height": 71
        },
        "tags": []
      },
      "source": [
        "docs=[corpus.words(fileid) for fileid in corpus.fileids()]\n",
        "\n",
        "print(docs[:5])\n",
        "print(\"num of docs:\", len(docs))"
      ],
      "execution_count": 21,
      "outputs": [
        {
          "output_type": "stream",
          "name": "stdout",
          "text": "[['ASIAN', 'EXPORTERS', 'FEAR', 'DAMAGE', 'FROM', 'U', ...], ['CHINA', 'DAILY', 'SAYS', 'VERMIN', 'EAT', '7', '-', ...], ['JAPAN', 'TO', 'REVISE', 'LONG', '-', 'TERM', ...], ['THAI', 'TRADE', 'DEFICIT', 'WIDENS', 'IN', 'FIRST', ...], ['INDONESIA', 'SEES', 'CPO', 'PRICE', 'RISING', ...]]\nnum of docs: 10788\n"
        }
      ]
    },
    {
      "cell_type": "markdown",
      "metadata": {
        "id": "U17VbjPaNIAD",
        "colab_type": "text"
      },
      "source": [
        "## 前処理を行う"
      ]
    },
    {
      "cell_type": "markdown",
      "metadata": {
        "id": "HGPSmgSNNMFs",
        "colab_type": "text"
      },
      "source": [
        "### nltkのストップワードリスト（記号や、数字も消しておく）"
      ]
    },
    {
      "cell_type": "code",
      "metadata": {
        "id": "CHC1l7zDNFLx",
        "colab_type": "code",
        "colab": {}
      },
      "source": [
        "en_stop = nltk.corpus.stopwords.words('english')\n",
        "en_stop= [\"``\",\"/\",\",.\",\".,\",\";\",\"--\",\":\",\")\",\"(\",'\"','&',\"'\",'),',',\"','-','.,','.,\"','.-',\"?\",\">\",\"<\"]                  \\\n",
        "         +[\"0\",\"1\",\"2\",\"3\",\"4\",\"5\",\"6\",\"7\",\"8\",\"9\",\"10\",\"11\",\"12\",\"86\",\"1986\",\"1987\",\"000\"]                                                      \\\n",
        "         +[\"said\",\"say\",\"u\",\"v\",\"mln\",\"ct\",\"net\",\"dlrs\",\"tonne\",\"pct\",\"shr\",\"nil\",\"company\",\"lt\",\"share\",\"year\",\"billion\",\"price\"]          \\\n",
        "         +en_stop"
      ],
      "execution_count": 22,
      "outputs": []
    },
    {
      "cell_type": "markdown",
      "metadata": {
        "id": "7hdG75XqNYPa",
        "colab_type": "text"
      },
      "source": [
        "### 前処理関数の作成"
      ]
    },
    {
      "cell_type": "code",
      "metadata": {
        "id": "f1jUH0P-NcoP",
        "colab_type": "code",
        "colab": {}
      },
      "source": [
        "from nltk.corpus import wordnet as wn #lemmatize関数のためのimport\n",
        "\n",
        "def preprocess_word(word, stopwordset):\n",
        "    \n",
        "    #1.make words lower ex: Python =>python\n",
        "    word=word.lower()\n",
        "    \n",
        "    #2.remove \",\" and \".\"\n",
        "    if word in [\",\",\".\"]:\n",
        "        return None\n",
        "    \n",
        "    #3.remove stopword  ex: the => (None) \n",
        "    if word in stopwordset:\n",
        "        return None\n",
        "    \n",
        "    #4.lemmatize  ex: cooked=>cook\n",
        "    lemma = wn.morphy(word)\n",
        "    if lemma is None:\n",
        "        return word\n",
        "\n",
        "    elif lemma in stopwordset: #lemmatizeしたものがstopwordである可能性がある\n",
        "        return None\n",
        "    else:\n",
        "        return lemma\n",
        "    \n",
        "\n",
        "def preprocess_document(document):\n",
        "    document=[preprocess_word(w, en_stop) for w in document]\n",
        "    document=[w for w in document if w is not None]\n",
        "    return document\n",
        "\n",
        "def preprocess_documents(documents):\n",
        "    return [preprocess_document(document) for document in documents]"
      ],
      "execution_count": 23,
      "outputs": []
    },
    {
      "cell_type": "markdown",
      "metadata": {
        "id": "nJZeCVgNNi5T",
        "colab_type": "text"
      },
      "source": [
        "### 前処理の結果を出力してみる"
      ]
    },
    {
      "cell_type": "markdown",
      "metadata": {
        "id": "WGX6YzgVNmbV",
        "colab_type": "text"
      },
      "source": [
        "### 前処理前"
      ]
    },
    {
      "cell_type": "code",
      "metadata": {
        "id": "2u2P8lmTNgLn",
        "colab_type": "code",
        "outputId": "72a39c9b-e56b-410f-d633-265a54662d92",
        "colab": {
          "base_uri": "https://localhost:8080/",
          "height": 34
        },
        "tags": []
      },
      "source": [
        "print(docs[0][:25]) "
      ],
      "execution_count": 24,
      "outputs": [
        {
          "output_type": "stream",
          "name": "stdout",
          "text": "['ASIAN', 'EXPORTERS', 'FEAR', 'DAMAGE', 'FROM', 'U', '.', 'S', '.-', 'JAPAN', 'RIFT', 'Mounting', 'trade', 'friction', 'between', 'the', 'U', '.', 'S', '.', 'And', 'Japan', 'has', 'raised', 'fears']\n"
        }
      ]
    },
    {
      "cell_type": "markdown",
      "metadata": {
        "id": "Ki-UHTcXNptm",
        "colab_type": "text"
      },
      "source": [
        "### 前処理後"
      ]
    },
    {
      "cell_type": "code",
      "metadata": {
        "id": "0rHr8yGINpDM",
        "colab_type": "code",
        "outputId": "f66ac538-fa1c-414a-f9e9-3cd7b8cffdf0",
        "colab": {
          "base_uri": "https://localhost:8080/",
          "height": 54
        },
        "tags": []
      },
      "source": [
        "print(preprocess_documents(docs)[0][:25])"
      ],
      "execution_count": 25,
      "outputs": [
        {
          "output_type": "stream",
          "name": "stdout",
          "text": "['asian', 'exporter', 'fear', 'damage', 'japan', 'rift', 'mounting', 'trade', 'friction', 'japan', 'raise', 'fear', 'among', 'many', 'asia', 'exporting', 'nation', 'row', 'could', 'inflict', 'far', 'reaching', 'economic', 'damage', 'businessmen']\n"
        }
      ]
    },
    {
      "cell_type": "markdown",
      "metadata": {
        "id": "kIwd7wGvNyWj",
        "colab_type": "text"
      },
      "source": [
        "## クラスタリング編"
      ]
    },
    {
      "cell_type": "markdown",
      "metadata": {
        "id": "WPAMVMFaN2yL",
        "colab_type": "text"
      },
      "source": [
        "### TFIDFで上記の前処理済みの文章をベクトル化\n",
        "### vectorizerを使用する（ハイパーパラメーターの設定）"
      ]
    },
    {
      "cell_type": "code",
      "metadata": {
        "id": "QVtbDMmtNuQV",
        "colab_type": "code",
        "colab": {},
        "tags": []
      },
      "source": [
        "pre_docs=preprocess_documents(docs)\n",
        "pre_docs=[\"\".join(doc) for doc in pre_docs]\n",
        "print(pre_docs[0])\n",
        "\n",
        "vectorizer = TfidfVectorizer(max_features=200, token_pattern=u'(?u)\\\\b\\\\w+\\\\b' )"
      ],
      "execution_count": 26,
      "outputs": [
        {
          "output_type": "stream",
          "name": "stdout",
          "text": "asianexporterfeardamagejapanriftmountingtradefrictionjapanraisefearamongmanyasiaexportingnationrowcouldinflictfarreachingeconomicdamagebusinessmenofficialtellreutercorrespondentasiancapitalmovejapanmightboostprotectionistsentimentleadcurbamericanimportproductexporterconflictwouldhurtlongrunshorttermtokyolossmightgainimpose300tariffimportjapaneseelectronicsgoodapril17retaliationjapanallegefailurestickpactsellsemiconductorworldmarketcostunofficialjapaneseestimateputimpacttariffspokesmanmajorelectronicsfirmwouldvirtuallyhaltexportproducthitnewtaxablebusinessspokesmanleadingjapaneseelectronicsfirmmatsushitaelectricindustrialcoltdmc>.tariffremainplacelengthtimebeyondmonthmeancompleteerosionexportgoodsubjecttarifftommurthastockanalysttokyoofficebrokerjamescapelco>.taiwanbusinessmenofficialalsoworryawareseriousnessthreatjapanservewarningusseniortaiwanesetradeofficialasknametaiwantradetradesurplus15last95surplushelpswelltaiwanforeignexchangereserves53amongworldlargemustquicklyopenmarketremovetradebarriercutimporttariffallowimportproductwantdefuseproblempossibleretaliationpaulsheenchairmantextileexportertaiwansafegroup>.seniorofficialsouthkoreatradepromotionassociationtradedisputejapanmightalsoleadpressuresouthkoreawhosechiefexportsimilarjapanlastsouthkoreatradesurplus1985malaysiatradeofficerbusinessmentoughcurbjapanmightallowhardhitproducersemiconductorthirdcountryexpandsaleshongkongnewspaperallegejapansellingcostsemiconductorelectronicsmanufacturerviewbusinessmenshorttermcommercialadvantagewouldoutweighpressureblockimportshorttermviewlawrencemillsdirectorgeneralfederationhongkongindustrywholepurposepreventimportonedayextendsourcemuchserioushongkongdisadvantageactionrestraintradelasthongkongbigexportmarketaccounting30domesticallyproduceexportaustraliangovernmentawaitoutcometradetalksjapaninterestconcernindustryministerjohnbuttoncanberralastfridaykinddeteriorationtraderelationstwocountrymajortradingpartnerseriousmatterbuttonaustraliaconcerncentrecoalbeefaustraliatwolargeexportjapanalsosignificantexportcountrymeanwhilejapanesediplomaticmanoeuvresolvetradestandcontinuejapanrulingliberaldemocraticpartyyesterdayoutlinepackageeconomicmeasureboostjapaneseeconomymeasureproposeincludelargesupplementarybudgetrecordpublicworksspendingfirsthalffinancialalsocallstepspendingemergencymeasurestimulateeconomydespiteprimeministeryasuhironakasoneavowfiscalreformprogramdeputytraderepresentativemichaelsmithmakotokurodajapandeputyministerinternationaltradeindustrymitiduemeetwashingtonweekeffortenddispute\n"
        }
      ]
    },
    {
      "cell_type": "markdown",
      "metadata": {
        "id": "bOOrgZHZN_Aw",
        "colab_type": "text"
      },
      "source": [
        "### fitする"
      ]
    },
    {
      "cell_type": "code",
      "metadata": {
        "id": "98b3XjG7N8nZ",
        "colab_type": "code",
        "colab": {}
      },
      "source": [
        "tf_idf = vectorizer.fit_transform(pre_docs)"
      ],
      "execution_count": 27,
      "outputs": []
    },
    {
      "cell_type": "markdown",
      "metadata": {
        "id": "yKhgoWLeOCW_",
        "colab_type": "text"
      },
      "source": [
        "### K-means\n",
        "### kmeansの設定"
      ]
    },
    {
      "cell_type": "code",
      "metadata": {
        "id": "qVRkE4lsOBuL",
        "colab_type": "code",
        "colab": {}
      },
      "source": [
        "num_clusters = 8\n",
        "km = KMeans(n_clusters=num_clusters, random_state = 0)"
      ],
      "execution_count": 28,
      "outputs": []
    },
    {
      "cell_type": "markdown",
      "metadata": {
        "id": "SoOo2YWkOU9T",
        "colab_type": "text"
      },
      "source": [
        "### fitする"
      ]
    },
    {
      "cell_type": "code",
      "metadata": {
        "id": "ZmhVNkcyOSxq",
        "colab_type": "code",
        "colab": {}
      },
      "source": [
        "clusters = km.fit_predict(tf_idf)"
      ],
      "execution_count": 29,
      "outputs": []
    },
    {
      "cell_type": "markdown",
      "metadata": {
        "id": "aIcN2sKSOZdu",
        "colab_type": "text"
      },
      "source": [
        "### 出力結果"
      ]
    },
    {
      "cell_type": "code",
      "metadata": {
        "id": "HBFqXETzOXec",
        "colab_type": "code",
        "outputId": "24b1bec4-c11d-40d4-c5a5-4fc83b131315",
        "colab": {
          "base_uri": "https://localhost:8080/",
          "height": 7004
        },
        "tags": [
          "outputPrepend"
        ]
      },
      "source": [
        "for doc, cls in zip(pre_docs, clusters):\n",
        "    print(cls,doc)"
      ],
      "execution_count": 30,
      "outputs": [
        {
          "output_type": "stream",
          "name": "stdout",
          "text": "eralagreementtarifftraderesultadoptionstrongimmediatecountermeasureresolutionstateresolutioneuropeancommunitycommissionproposeestablishconsumptiontaxvegetablefishoilfatconjunctionsettingfarm1988ecmarketingsenatetaxwouldamountalmost90currentsoyoilrestrictiveeffectexportsoybeanvegetableoilecwouldblatantlyinconsistentobligationecgeneralagreementtarifftradegattresolutionconstituteanotheregregiousattemptimposeecagriculturalcoststradingpartner\n0 healthmateincauditorintendqualifyfinancialstatementhealthmateincauditorintendqualifyfinancialstatement\n0 harscocorphscsetquarterlyqtlydiv2525priorpaymay15recordapril15\n0 milastarcorpmila3rdqtrjan31losslosstwolossfourloss44loss85sales370299ninemthslosssevenlossthreeloss134loss56sales211069notepriorninemthsincludedlrlosssalemarketablesecuritypriorquarterincludedlrtaxcreditcurrentincludeprovisionslossinvestmentpreferstockquarter15ninemths\n0 bankbostonexpect1stqtrearnings900079bankbostonexpect1stqtrearnings900079\n0 bankbostonbkbseeimprove1stquarterbankbostoncorpexpectfirstquarterearningsrange90onedlr79lastchairmanwilliambrowntellshareholder190dlrexposureloanbrazilcountrydefaultdebtpaymentdefaultoccurwouldfirstquarterearningsfivewouldbringbanklowerlevelestimaterangeaddbrownnotefirstquarterinclude17gainloanrestructureappearbrownbanknonperformingassetsincludebrazilianexposurecouldrise700endquartercompare669earlier614endincreaseincludeequadorianloanexpectultimatelyrepayrecoverearthquakeearlierbrownincreasealsoincludemexicanvenezuelanloannationalsofacingcreditproblembrownbankbostonremainscautiouslyoptimiticfullevenbrazilianexposurenonaccural.\"bankearn69232interestrevenue08presidentirastepaniantellshareholdermeetingbanktotalloanargentinabrazilmexicototal875end37primarycapitalbrazilloantotal300twothirdaffectsuspensioninterestpaymentmediumlongtermforeigndebt\n0 libyareportedlybuywhitesugarlibyareportrecentlybuytwocargowhitesugaroperatoraround229230costfreighttradershipmentperiodrequirespecify\n0 usairgetapprovalbuy309394piedmonttenderusairgetapprovalbuy309394piedmonttender\n0 fedexpectaddreservesfederalreserveexpectentergovernmentsecuritymarketaddreservesusualinterventionperiodtodayeconomistfederalfundstradingsteady16economistexpectindirectinjectiontemporaryreservesviamediumsizeroundcustomerrepurchaseagreementhowevereconomistfedmayarrangeaggressivesystemrepurchaseagreementeconomistwouldalsoruleoutrightbillpassearlyafternoonactionwidelyanticipateyesterdayfailmaterialize\n0 dollaryeninterventionrespondpressurebankfranceintervenebuysmallamountdollarsellyenparistodaystabiliseexchangeratesagreelastmonthmeetingfinanceministergroupfivecanadaforeignexchangedealerrecentcentralbankinterventionforeignexchangemarketappearlimitedreactiontemporarypressurerathermajordefenceoperationbankfrancespokesmandeclinecommentsourceclosecentralbankalsointerveneyesterdaydealerearlierinterventionconcertbundesbankbankjapansourcefrenchcentralbankcouldmarkettodaytwowayoperationsnecessarilyaccountcountershorttermpressureariseendjapanesefinancialmarch31onemajorfrenchbankbuyfive15centralbanksellyen14928dollaranotherbankaskbankfrancemarketdeparturecentralbankusualinsistenceconfidentialitybanksseesigninterventionappearlimitedscaleevenbanksbuyingfive15wouldstilltalkingsmalloverallamountonedealerrecentinterventionbankjapanappearmainlyrequiremeetendwindowdressingdemandyenspecificshorttermphenomenonratherwidetrenddealeroperatorextremelycautioustestingdollartradingrangewestgermanmarkjapaneseyenrangesetfebruarystabilisationagreementreachtreasurysecretaryjamesbakerfinanceministerjapangermanyfrancebritaincanadaspeculativepressurestartbuildweekbakerquotebritishtelevisionweekendrepeatingearlierstatementwashingtontargetdollarbakeryesterdaymovedefusespeculationtalkingdollartellingcablenewsnetworkinterviewersenatecommitteestandparisagreementforeignexchangemarketmisreadingcomment\n0 wallstreetstocksoilbritishpetroleumcoplcannouncementsubsidiaryintendtender45standardoilcosrdalreadycatapultoilstockssharplyhighermorningtraderanalystraisespecteradditionalconsolidationindustryboostoilanalystrosarioilacqualfrothschildsanfordmargoshesshearsonlehmanbrotherdealshowbritishpetroleumconservativeinvestorknowoilbusinessclearlyconfidentoilindustryshinewell.\"philippetroleumpgain15occidentalpetroleumoxyone34usxcorpx>,marathonoilcounitrose28exxonxonclimbone88mobilmobone50atlanticrichfieldarc80amoco84ameradahessone33bpgain59analystrisestandardmorningproposetender70indicationinvestorexpectbidsweetenstandardgain71analystciteroyaldutchshellgrouprdscbidshelloilcosweetensuccessfulconclusionmargoshesbpactionarticulationunderlievalueoilmarketplace.\"expressskepticismnecessarilyleadheightenmergerbuyoutactivityoilgroup\n0 firstcorpfcrseegaincondemnationfirstcorpincweillreporttaxgain82756perprimary42fullydiluteproposecondemnationacquisitionparkingdeckoperatewakecountyreinvestedproceedssimilarpropertywithin24monthgainsalewoulddefertaxpurpose\n0 norcenseeimprovementearningsnorcenenergyresourceltd>,41heesinternationalcorp>,earningscashflowimproveevenoilgasremainlevelimprovementresultproductionincreaselowertaxroyaltyreducefinancingcostsoperateefficiencydownsizingputplaceannualreportnorcenpreviouslyreportearningsexclude20dlrwriteoffdecline58501191985norcencashflowfell204228priorsharpdeclineoilsignificantfactornorcenreduceperformancefinancialresultfarpreviousrecordlevelclearnorcenwithstanddeclineremainsfinanciallyoperationallystrongnorcengivespecificprofitforecastwellpositioncapitalizeprofitableopportunitycorebusinessareacontinueinvestincreaserevenueassetvalues\n0 cocoacouncilheadpresentbuffercompromiseinternationalcocoaorganizationiccocouncilchairmandenisbrakanonpresentcompromiseproposalbufferstockruleproducerconsumerdelegateeitherlatertodaytomorrowmorningdelegatebrakanonholdprivatebilateralconsultationmajorproducerconsumermorningresolveoutstandingdifferencemostlyissuemuchnonmembercocoabufferstockpurchasedifferentialdifferentvarietydelegatefairlyconfidentdifferencecouldworktimereachagreementtomorrowconsumemembernationincludebritainbelgiumfavourbufferstockbuyingnonmembercocoadelegateconsumerarguebuyingcheaplowerqualitynonmembercocoaparticularlymalaysianeffectivelysupportlowqualitycocoacurrentlypressuremarketproducermeanwhilenonmembercocoamakesmallpercentagebuffermalaysiaablebenefiticcounlessmemberbufferstockbuymalaysiancocoamalaysiawouldincentivejoindelegatedifferentialghanaapparentlywanthigherdifferentialcocoaoutlinerecentproposalwouldbetterchancecocoabuybufferstockproducerdelegateconsumerwantdifferentialadjustwaywouldpromotebufferstockpurchaseexpensivecocoaghanaianbraziliantechnicalpointneedsortincludelimitmuchcocoabufferstockmanagerbuynearbyintermediateforwardpositionconsequenteffectvariousdeliverydelegate\n0 siemensrebuttscriticismcgctoffersiemensagsiegfrebutcriticismblockingamericantelephonetelegraphcorpn>,entryfrenchtelecommunicationfirmcompagniegeneraleconstructiontelephoniques>,cgctmanagementboardmemberhanbaurtelljournalistacquisitionjoint20stakecgctphilipgloeilampenfabriekennvpglodecidetwoyearsagoclaimfrenchgovernmentcgctasksiemensstartsubmitofferstakecgctresultnegotiationstillopenbaursiemensfirstmakeofferlastsummerhandelsblattnewspapertodayquotechairmanjameseolsonsayingsiemensattemptstopphilipcouldleadresurgenceprotectionismbaurexpectfrenchgovernmentdecidewinningbidendaprilcgctfrenchswitchboardmarketamountaround16frenchgovernmentlimitedcgctparticipationforeign20set500francwholebauer20limitationwouldapplyinitialstakerulestakeincreaselatersiemensaimintroducetechnologybauersiemensfrenchtelecommunicationfirmjeumontschneidersasubmitjointofferstartmarch20limitationformjointventuretakewholecgctsiemens20stakenewjeumontschneider80apartinvesting100francmodernisationcgctnewresearchcentrealsoplan\n0 mulforddisappointnewlyindustrializenicseffortstrengthencurrencymulforddisappointnewlyindustrializenicseffortstrengthencurrency\n0 fordfneargmgmexecutivebonusfordmotorconeargeneralmotorcorplastexecutivebonustoplargerautomakerprofitsharingpaymentworkerfordoutstripgmearningslastincentivebonustotal167slightlybehindgeneralmotor169generalmotorhowevermakeprofitsharingpaymentworkerfordmakeprofitsharingdistribution372100perworkergeneralmotorsawearningsdrop94198599profitsufficientgeneratepayoutprofitsharingformula.\"fordearn28511985recognizeemployeeeffortfulfillcommitmentmanywaysincludeprofitsharing.\"\n0 mulfordgermanyjapantreasuryassistantsecretarydavidmulfordbelievewestgermanyjapanyetcarryinternationalresponsibilitybelievetimemulfordtellsenatebankingsubcommitteetradedeficitcontinueimprovenexttwoyearsneedpolicyactionacrossentirefronttraderelationsincludecanadanewlyindustrializecountrynics).particulareffortsouthkoreataiwanstrengthencurrencystilldisappointmulfordalsooecdnationneedgrowaveragethreehelpresolveinternationaldebtcrisisnotejapaneseeuropeanimportlatinnationsignificantlysmallerimportstressgermanyjapanmustcontinuetakeeconomicstructuralmeasureensurestrongsustaineconomicgrowth\n0 ecgrantexportlicence197freemarketmaizezerobarleyparistraderecgrantexportlicence197freemarketmaizezerobarleyparistrader\n0 pierimportpirdeclarestocksplitpierimportincboarddeclarethreetwosplitcommonstock25centpreferstockdeclareregularquarterlydividendtwocentperpresplitcommonstockoutstandingpieralsodeclareannualdividendincreasepostsplitcommonspliteffectform50stockdividendclassshareholderapprovalrequireincreaseauthorizecommonstock10025approvalalsoneedincreaseauthorizepreferstockonemillionfivemillionvotingconductannualshareholdermeetingjune24piercurrently19millioncommonstock96025preferstockoutstandingsplitdistributejune29shareholderrecordmay13twoperquarterlycashdividendpayablemay29shareholderrecordmay13increaseoutstandingbroadenbasestockownershipdividendincreasereflectdirectorpositiveoutlookfutureprospectpierimportclarkjohnsonpresidentchiefexecutiveofficer\n0 lancercorplacr4thqtr15282360rev261348avgshrs3363359104149075rev2828avgshrs356001notequarterinclude72dlrchargerepalinvestmenttaxcredit\n0 macnealschwendlercorpmn4thqtrjan3116888307rev365877oper5840oper005866rev2721notepriorexclude263dlrlossdiscontinueoperations073disposaladjuststockdividend\n0 nicholsinstitutelab1stqtrfeb28twoone8332rev625\n0 firstmedicaldevicescorpfmdclossloss97loss364453sales737971notedevelopmentstage\n0 healthmatehmteexpectqualifyopinionhealthmateincauditorlaventholhorwathindicateissuequalifyopinionfinancialstatementgopublicmarch1985earlierreportlossesfourthquarterauditorstatementknowsubjectopinioncautioncontinueoperatelossesnegativecashflowmustachieveprofitableoperationsacquireadditionalequitycapitalfinancingcontinueexistencehealthmatereportloss51253417revenueagoloss55359220revenue515225increasesalesreflectinitialshipmentfluoroscanimagingsystemlowradiationxrayimagingdevicesrecentlyclassifiedunderwriterlaboratoryinc\n0 healthmateinchmte4thqtrlosslossfivelosssixloss473784loss489257rev26879781725avgshrs245247035326loss17loss20512534loss553592rev448310515225avgshrs745132619863\n0 usairclearbuypiedmontpieusairgroupincdepartmenttransportationissueorderallowpurchaseholdvotingtrust309394piedmontaviationincusairseekingcurrent69dlrpertenderoffernewordersupersedeorderissuedepartmentlastfridaywouldrequireusairsellwithinoneweekexpirationtenderpiedmontholdexcess51piedmontstockoutstanding309394piedmonttogether292599piedmontalreadyusairconstitute50piedmontfullydilutebasius61currentlyoutstandingholdvotingtrustpendingdepartmentreviewusairapplicationobtaincontrolpiedmont\n4 fedsettwodlrcustomerrepurchasefedfedsettwodlrcustomerrepurchasefed\n0 housefabricinchf4thqtrjan313420253332sales89859464191257sales316286notepriorperiodinclude100dlrchargesalecraftshowcasestore\n0 germanretailerexpectgoodwestgermanretailerexpectanothergoodeventhoughablerepeatsharpincreaseturnoverenjoygeneralassociationgermanretailtradehdehdepresidentwolfganghinrichsretailerwouldsatisfyrealturnoverincreasethreelaststeeprisehinrichsturnoverincreasebringfirsthesitantsignimprovementearningswestgermanretailsector\n0 germanwageroundlimitmonetaryoptionbundesbankoptionwestgermanymonetarypolicylimitedforeseeablefuturedelicatestagewagenegotiationunionemployereconomistmoneymarketdealercallmoneyfellquiteactivetradingtodaydrop40505565yesterday50treasurybillratedifficultmonthendapproachdealereconomistbundesbankunlikelyencouragelowerratesforeseeablefuturelargelyfearupsetcurrentwageroundonemoneymarketdealermajorforeignbankthinkbundesbankwantratesgowhateverhappenalsowantfallwantwaitseeunionwageroundgo.\"westgermanyunionemployerpreparegroundtriennialwagenegotiationbasedetailassessmentgrowthinflationeconomistutegeipeleconomistcitibankagbundesbankbecomeaccommodatemonetarypolicyraisingfearquartersreturninflationmediumtermunionwouldobligecurtailwagedemandresultbundesbankconcernmakemovewouldinterferenegotiateprocessgeipelcurrentroundcountrypowerfulunionigmetallrepresentmetalworkerengineerdemandshorteningworkingweek35hourspresent38accompanyfiveincreasewagesengineeringemployerassociationgesamtmetallofferingbring38hourweekjuly1988givetwostagewageincreaseriseaprilanotherjuly1988agreementforgeigmetalleuropelargeunionmemberemployerwouldsetbenchmarksettlementindustrypublicsectorbanksfederalpostofficenegotiationbegindecemberunionhopefulmayconcludeearlyaprilaheadtraditionalholidayperiodjunethoughmanyeconomistunioncurrentwarningstrikerhetoricpartnegotiatestrategywouldleadrepeat1984damagesevenweekstrikeothersunionwouldcompromisegreatlypositioncouldstillconflictcouldextendlengthtimebundesbankwouldkeepactivitylowkeyeconomistmoneymarketheadunionhumiliationprotractfinancialproblemneueheimatcooperativehousingventurewouldcontributeunionobstinacyunionforgetputsquarelyontoaccountnegotiationadditionnewlyelectchairmanigmetallunionfranzsteinkuehlerradicaldeterminepredecessorhanmeyermaysetlongerbattleachievebestpossiblesettlementmembership16engineeringworker45firmmainlysouthgermanyholdwarningstrikelasttwohoursyesterdayfirmhitincludezahnradfabrikpassaugmbhaerospacegroupmesserschmittboelkowblohmgmbhtoday28employee110comewarningstrikestatementigmetallmoneymarketdealerovernightcallmoneyrateswouldrisenearfuturecasedependpoliticallyinhibitbundesbankeightmarkscomingmarkettomorrowsalarypaymentfederalgovernmentresultbanksfellbackbundesbankoffermopliquidityviasalethreedaytreasurybillanticipatestilllowerratesmonthendpensionpaymentdatebanksbehalfcustomerduemondaydealernotebanksshortliquiditybillmaturetuesdayratescouldsoarperhaps50lombardceilingbankswellstockfundsaverage52marksbundesbankminimumreservesfirst24daysmarchwell50requirement\n0 foreignfirmhopejoinjapantelecompresidentnobuoitointernationaltelecomjapanincitjonetworivalfirmseekingenterjapaninternationaltelecommunicationmarketofferstakeforeignfirmdeclinespecifyfirmwouldtaketellreuterswouldparticipatemanagementitjinternationaldigitalcommunicationsplanningincidccablewirelessplcpacifictelesisgroup20stakessetmergenewentitycompetekokusaidenshindenwacoltd\n0 siemensraisestaketelecomplussiemensagsiegffullysubsidiarysiemensinformationsystemincraisestaketelecompluscommunicationsinc.>65100siemensspokesmanaddtelecompluscommunicationslargeindependentsuppliertelephoneexchangesystemturnover234stakeacquiretelecomplusinternationalincspokesmandeclinecommentnewspaperreportpurchasetotal173\n0 firstinterstateseekacquisitionletwomonthfirstinterstatebancorpwithdrawboldattemptbuybankamericacorpchairmanjosephpinolastilllookinggoodbuyalsolookingwaysavoidbuywiderangeinterviewpinolalookingwaysimproveprofitabilitycapital1991resistpotentiallookus...maintainindependencepossible.\"1991federalregulatorychangeallowmajoreastcoastbanksbuybankscaliforniafirstinterstatefourthlargecaliforniabankninethlargenationwide24bankswesternstatefranchiseoperationsfouradditionalstatebankindustrysourceattractivetargetlargeforeignbankslookingquicklymovelucrativecaliforniamarketwestcoastregiondeclinespecificcorporatestrategyaskacquisitionpartplanpinolareplyundoubtedlyfairstatement...wouldalmostnaivethink.\"pinolacharacterizeacquisitionstrategyopportunistic\".lookbanksmanagementtroublegetbargainaddmanagementrestoreprofitabilitybanksstatefirstinterstatealreadyoperatecutcostscombiningresourceexceptionwouldtexasbanksalreadywellmanagemightpurchasediscountdepressregionaleconomypinoladeclinecommentcircumstancesmightmoverekindlebidbankamericasayingcontinuemonitorlooklotthingslotpeoplecontinuemonitorlookus.\"bankinganalysthoweverconsideranotherfirstinterstatebidbankamericalongshotlikelyhappentimesoonpinolacalldecisionlastmonthwithdraw25dlrbidnationsecondlargebankdifficultdecision.\"decisionmakehoweveracknowledgefirstinterstatemaydifficulttimekeepingnumberfourpositioncaliforniabankingcommunitycompetitionstatetoughnotecitybankrecentpurchase50financialservicebranchsearroebuckcitybankmoverapidlymoveusfifthwellsfargofourthoutsidecaliforniapinolaacknowledgesecuritypacificcorprecentacquisitionarizonawashingtonoregonquicklybecomeregionalcompetitorareafirstinterstatelongdominatesecuritycontinuehighlyprofitableobviouslywellmanageaddhoweverfirstinterstatemomentadvantagemanageregionalbankslongerrecognitionadvantagegivenregionalbankscommonnamepinolacoastalstatebanksgoodfinancialconditionfirstinterstatecontinuesustainseriousloanlossesrockymountainstateenergyrealestateagriculturedominateeconomyaskthoughtloanlossesareapeakthinkbottomthinkproblemrealestaterelaterealestateproblemgoingusseveralyears.\"pinolaanotherfailingeconomicsectoragriculturemidwestslowexpansionfirstinterstatefranchiseoperationfirstinterstate42franchisebanksofferfirstinterstatefinancialservicestenstateagoconsidertakingfranchiseoperationeastmississippiriverpinolafranchisebankswestexpansionmidwestmustcomefirstcallingfranchisesystemmoderatelyprofitablepinolagoingtakerejuvenationagriculturesectoruscommencefranchisespeedgeneratelasttwo.\"bankingindustrygeneralpinolathinkanotherbadloanlossesbanksminimalholdingrealestateableimproveprofits\n0 nationalseaproductltd4thqtroper4321oper846386rev137107oper3642oper21764239rev516454noteqtrexcludeextraordinarygain784fiveversusextraordinaryloss1101985qtrnotecontinueexcludeextraordinarygain1436094versusextraordinarygain88319prior\n0 housefabrichfseeresultimprovehousefabricincexpectgrowthearningsrevenuecurrentfiscalprogressopen50superstorehousefabricoperate703storetodayreportearningsendjanuary31191sales316priorearnings257sales286priorearningsinclude100dlrchargedispositioncraftshowcasestore\n0 senatehitecoiltaxvowretaliationsenatevotecondemnproposeeuropeancommonmarkettaxvegetablefishfatoilwouldresultretaliationnonbindingsenateresolutionsensesenatesentimentapprove99voteadministrationcommunciateeuropeancommunitymessageunitestateviewestablishmenttaxinconsistenteuropeancommunityobligationgeneralagreementtarifftraderesultadoptionstrongimmediatecountermeasureresolutionstate\n0 kodakekbuystakebiotechnologyeastmankodakcoreachagreementacquirenewstockrepresent16interestindustrialbiotechnologygenencorincundisclosedtermsgenencorshareholderincludestaleycontinentalincsta>,cornglassworksglwgenentechincgene>.grantoptionincreaseequitystakeagreemakemultiyearmultimilliondollarcommitmentgenecorresearchproductrelatefoodadditiviespharmaceuticalintermediate\n0 averyavy1stqtrfeb28333013sales330249\n0 fedsettwodlrcustomerrepurchasefederalreserveentergovernmentsecuritymarketarrangetwocustomerrepurchaseagreementspokeswomannewyorkfedfederalfundstrading16timeindirectinjectiontemporaryreserves\n0 senateseekprobecanadiancornlevysenatevoteunanimouslyseekexpediteprobecanadiantariffcornimportdetermineunitestateretaliate99senategorecord84centperbusheltariffapprovecanadianimporttribunalnonbindingmeasureaskprobetraderepresentativedeterminewithin30dayswhethertariffviolategeneralagreementtarifftraderecommendwithin60dayspresidentreaganretaliatoryactioncanada\n0 kmoneymarketshortageforecastrevisebankenglandreviseforecastshortagemoneymarket450stgtakingaccountmorningoperationsnoonbankestimateshortfall500stg\n0 knightridderinckrnsetquarterlyqtlydiv2525priorpayapril13recordaprilsix\n0 technitrolinctnlsetquarterlyqtlydivpriorpayapril21recordaprilseven\n0 nationwidecellularserviceincncel4thqtrlosssixloss18loss89478loss178507rev894844964141avgshrs582790oneloss43loss81loss534099loss811836rev167573avgshrs251337one\n0 hautomotivetechnologycorp4352dilute4149916281rev3222\n"
        }
      ]
    },
    {
      "cell_type": "markdown",
      "metadata": {
        "id": "Ps1PgVeyOfbU",
        "colab_type": "text"
      },
      "source": [
        "## ヒント\n",
        "\n",
        "<p1>\n",
        "scikit-learnのvectorizerとkmeansにはたくさんのハイパーパラメータがあります。vectorizerのハイパーパラメータの中には前処理機能(例：stop_words)もあります。\n",
        "    ハイパーパラメータの設定を変える事で最終的な結果は変わります。以下のURLにアクセスしてハイパーパラメータの独自で設定してみてください。<br>\n",
        "    ・TF-IDFに関するパラメータ<br>\n",
        "    https://scikit-learn.org/stable/modules/generated/sklearn.feature_extraction.text.TfidfVectorizer.html<br>\n",
        "    ・Kmeansに関するパラメータ<br>\n",
        "    https://scikit-learn.org/stable/modules/generated/sklearn.cluster.KMeans.html<br>\n",
        "</p1>\n"
      ]
    },
    {
      "cell_type": "markdown",
      "metadata": {
        "id": "yRRWSoojOm1-",
        "colab_type": "text"
      },
      "source": [
        "## 応用\n",
        "<p1>\n",
        "    クラスタリング編でコードを以下に指示に従って変更する事で結果がどの様に変わるのかを確認してみましょう<br>\n",
        "    （１）講義で学んだ他の手法でベクトル化してみる(例：bag-of-words)<br>\n",
        "    （２）kmeans以外の手法、又はkmeansを可視化してみる(例：階層型クラスタリング)<br>\n",
        "<p1>"
      ]
    }
  ],
  "metadata": {
    "colab": {
      "name": "Untitled0.ipynb のコピー",
      "provenance": [],
      "include_colab_link": true
    },
    "kernelspec": {
      "name": "python3",
      "display_name": "Python 3"
    }
  },
  "nbformat": 4,
  "nbformat_minor": 0
}